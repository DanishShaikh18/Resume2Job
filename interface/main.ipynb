{
 "cells": [
  {
   "cell_type": "code",
   "execution_count": 7,
   "id": "5d65445c",
   "metadata": {},
   "outputs": [],
   "source": [
    "sections = {\n",
    "    'contact': 'Danish Shaikh 9321602175 : email : danish89761@gmail.com : linkedin : https://www.linkedin.com/in/danish-shaikh-b6442a212/ ', \n",
    "    \n",
    "    'profile summary': 'bca student with practical experience in machine learning data visualization sql and end-to-end data pipelines. developed ml-based solutions such as automated product detail extraction and classification for e-commerce datasets. familiar with power bi etl workflows and building scalable models. strong understanding of data structuring cleaning and analysis with the ability to communicate technical insights effectively. ', \n",
    "    \n",
    "    'skills': 'programming: python c/c++ java data analysis: excel pandas numpy matplotlib python libraries backend & database: flask sql/mysql postgresql web development: react html/css javascript tailwind css others: git/github computer networks dbms os ',\n",
    "     \n",
    "    'experience': 'tech intern : apollo hospitals june 27, 2024 : august 24, 2024 - assisted in collecting and organizing data from various departments ensuring accurate entry into internal records using excel. - gained hands-on experience in variance analysis data accuracy and reporting automation. - observed data flow across teams within the organization gaining insights into data management processes. '\n",
    "               }"
   ]
  },
  {
   "cell_type": "code",
   "execution_count": 24,
   "id": "8d10b4d6",
   "metadata": {},
   "outputs": [
    {
     "name": "stdout",
     "output_type": "stream",
     "text": [
      "Extracted Name: danish_shaikh\n"
     ]
    }
   ],
   "source": [
    "import re\n",
    "\n",
    "contact_text = sections[\"contact\"]\n",
    "\n",
    "# 1. Split by whitespace\n",
    "tokens = contact_text.split()\n",
    "\n",
    "# 2. Patterns to ignore (phone numbers, email, URLs)\n",
    "ignore_patterns = [\n",
    "    r'\\d{10}',                                 # Phone numbers\n",
    "    r'[\\w\\.-]+@[\\w\\.-]+',                      # Emails\n",
    "    r'https?://[^\\s]+',                        # URLs\n",
    "    r'(email|linkedin|github|phone|contact)',  # Common keywords\n",
    "    r'[^\\w\\s]',                                # Punctuation-only\n",
    "]\n",
    "\n",
    "# 3. Remove ignored tokens\n",
    "filtered = []\n",
    "for word in tokens:\n",
    "    if not any(re.fullmatch(pattern, word.lower()) for pattern in ignore_patterns):\n",
    "        filtered.append(word)\n",
    "\n",
    "# 4. Name is usually first 2-3 words after filtering\n",
    "name = \" \".join(filtered[:3]).title().replace(\" \",\"_\").lower()\n",
    "print(\"Extracted Name:\", name)\n"
   ]
  },
  {
   "cell_type": "code",
   "execution_count": null,
   "id": "0f19e7bb",
   "metadata": {},
   "outputs": [],
   "source": []
  }
 ],
 "metadata": {
  "kernelspec": {
   "display_name": "base",
   "language": "python",
   "name": "python3"
  },
  "language_info": {
   "codemirror_mode": {
    "name": "ipython",
    "version": 3
   },
   "file_extension": ".py",
   "mimetype": "text/x-python",
   "name": "python",
   "nbconvert_exporter": "python",
   "pygments_lexer": "ipython3",
   "version": "3.12.4"
  }
 },
 "nbformat": 4,
 "nbformat_minor": 5
}
