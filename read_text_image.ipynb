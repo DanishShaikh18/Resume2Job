{
 "cells": [
  {
   "cell_type": "code",
   "execution_count": 2,
   "id": "6076a712",
   "metadata": {},
   "outputs": [
    {
     "name": "stdout",
     "output_type": "stream",
     "text": [
      "Collecting pytesseract\n",
      "  Using cached pytesseract-0.3.13-py3-none-any.whl.metadata (11 kB)\n",
      "Requirement already satisfied: packaging>=21.3 in c:\\users\\danis\\appdata\\roaming\\python\\python312\\site-packages (from pytesseract) (24.1)\n",
      "Requirement already satisfied: Pillow>=8.0.0 in c:\\users\\danis\\anaconda3\\lib\\site-packages (from pytesseract) (10.3.0)\n",
      "Using cached pytesseract-0.3.13-py3-none-any.whl (14 kB)\n",
      "Installing collected packages: pytesseract\n",
      "Successfully installed pytesseract-0.3.13\n"
     ]
    }
   ],
   "source": [
    "!pip install pytesseract"
   ]
  },
  {
   "cell_type": "code",
   "execution_count": 6,
   "id": "006aef68",
   "metadata": {},
   "outputs": [
    {
     "name": "stdout",
     "output_type": "stream",
     "text": [
      "EXPERIENCE\n",
      "Tech Intern — Apollo Hospitals June 27, 2024 — August 24, 2024\n",
      "\n",
      "- Assisted in collecting and organizing data from various departments, ensuring accurate entry into internal records using Excel.\n",
      "+ Gained hands-on experience in variance analysis, data accuracy, and reporting automation.\n",
      "\n",
      "+ Observed data flow across teams within the organization, gaining insights into data management processes.\n",
      "\n"
     ]
    }
   ],
   "source": [
    "from PIL import Image\n",
    "import pytesseract\n",
    "\n",
    "img = Image.open(r\"doc\\image.png\")\n",
    "text = pytesseract.image_to_string(img)\n",
    "print(text)\n"
   ]
  },
  {
   "cell_type": "code",
   "execution_count": 7,
   "id": "de1f081c",
   "metadata": {},
   "outputs": [],
   "source": [
    "import cv2\n",
    "import pytesseract\n",
    "from PIL import Image\n",
    "import numpy as np\n",
    "import re\n",
    "\n",
    "# Optional: EasyOCR fallback\n",
    "# import easyocr\n",
    "# reader = easyocr.Reader(['en'])\n",
    "\n",
    "def clean_and_ocr(image_path, use_easyocr_if_failed=False):\n",
    "    # Load image\n",
    "    image = cv2.imread(image_path)\n",
    "    if image is None:\n",
    "        return \"Image not found.\"\n",
    "\n",
    "    # Step 1: Preprocessing\n",
    "    gray = cv2.cvtColor(image, cv2.COLOR_BGR2GRAY)\n",
    "    \n",
    "    # Apply thresholding to convert to B&W\n",
    "    _, thresh = cv2.threshold(gray, 0, 255, cv2.THRESH_BINARY + cv2.THRESH_OTSU)\n",
    "    \n",
    "    # Resize if text is small\n",
    "    height, width = thresh.shape\n",
    "    if height < 800:\n",
    "        thresh = cv2.resize(thresh, None, fx=2, fy=2, interpolation=cv2.INTER_LINEAR)\n",
    "    \n",
    "    # Step 2: OCR with Tesseract\n",
    "    custom_config = r'--oem 3 --psm 6'  # You can tune this\n",
    "    text = pytesseract.image_to_string(thresh, config=custom_config)\n",
    "\n",
    "    # Step 3: Filter out junk lines\n",
    "    cleaned_lines = []\n",
    "    for line in text.split(\"\\n\"):\n",
    "        line = line.strip()\n",
    "        if len(line) > 3 and re.search(r'[a-zA-Z0-9]', line):  # Filter garbage\n",
    "            cleaned_lines.append(line)\n",
    "\n",
    "    # Step 4: If Tesseract failed and fallback is enabled\n",
    "    if not cleaned_lines and use_easyocr_if_failed:\n",
    "        print(\"Fallback to EasyOCR...\")\n",
    "        results = reader.readtext(image_path, detail=0)\n",
    "        return results\n",
    "\n",
    "    return cleaned_lines\n"
   ]
  },
  {
   "cell_type": "code",
   "execution_count": 9,
   "id": "824d41ca",
   "metadata": {},
   "outputs": [
    {
     "name": "stdout",
     "output_type": "stream",
     "text": [
      "sf 21ca2is | mall = aaninse7cL@pmslco | inked = Nofima\n",
      "SKILLS.\n",
      "+ Bata analysis: Excel um, Pend, Mato Power BI\n",
      "+ Progeamasing Languages: ytnon, C/CHs, Jaa, aaseiat\n",
      "+ Databases: SOL/My SOL, PstgesO\n",
      "+ Web Development: HTML/CSS, React Tailed 55, JoaSeript\n",
      "+ Other Teemologls: siya, Operating Systems, Computer Networks, DBMS\n",
      "“+ Mathemates: Franca serous, tats, Probably, Lnea Alger\n",
      "EXPERIENCE\n",
      "‘Teh ern Apalioospeals uae 27,2024— August 28,2028,\n",
      "+ Arsiedincalectingandargeicng da forviou dares ensuing secut ntynatrfernal scores urge\n",
      "+ Obsereadtatawacozs teams ihintheegeizton,tinngeghtsinte data management ractsze,\n",
      "+ Eahancedcammuricatn ills coormating wn team fo arta colectonndaldation 3s,\n",
      "PROJECTS\n",
      "GGaming-Gear Hub ~ €-commerce Osta & Product Analysis Project,\n",
      "‘Teeh tacks Python, SOL PostgreSQL, React Tali 55\n",
      "“+ nevetopd an affane-ased gang acessories platform lth <ategareed produc lstlgs and peng asghts\n",
      "“Handled product data entry, fianng nd backend valdation, simulating real-time sconce Rana data\n",
      "flows\n",
      "«+ Cieated stracture databases and used SL quenes to rackumenton, rendlng products, 304 price\n",
      "comparisons\n",
      "‘Alkerny Event Website\n",
      "“Tech Stace Rose, asc, Tai 5S\n",
      "+ canine tthe dwtoment oferta afr frau allege’ ete romding event martin,\n",
      "1 Galobonte eetney thn 2 eam, contributing to developer ts and painting equrement rahi ed\n",
      "Leadership Experience\n",
      "Head af Operatins, Google Developer Gruup (COG) ‘aug 2024 Present\n",
      "Nana teat dn anna ease ae\n",
      "1 Samii operas ncaavce san engagement and eg\n",
      "‘lee Prstlent, Coders us ug 2023~Sep/2024\n",
      "1 organsedmuliptensctthore ramet calsberstion nd roti.\n",
      "Education\n",
      "‘Sharad vidyapecth(Dcemed to be Urwersy),Kharghar\n",
      "1A [Sachelor of Computer Appheatons) uy 2022- resem\n",
      "corn: 87/10\n"
     ]
    }
   ],
   "source": [
    "text_lines = clean_and_ocr(r\"doc\\DanishResume.jpg\")\n",
    "print(\"\\n\".join(text_lines))\n"
   ]
  },
  {
   "cell_type": "code",
   "execution_count": null,
   "id": "740dc4cf",
   "metadata": {},
   "outputs": [],
   "source": [
    "!pip install paddleocr\n",
    "!pip install paddlepaddle\n"
   ]
  },
  {
   "cell_type": "code",
   "execution_count": 11,
   "id": "0332d0e7",
   "metadata": {},
   "outputs": [
    {
     "name": "stderr",
     "output_type": "stream",
     "text": [
      "C:\\Users\\danis\\AppData\\Local\\Temp\\ipykernel_25312\\1813440581.py:4: DeprecationWarning: The parameter `use_angle_cls` has been deprecated and will be removed in the future. Please use `use_textline_orientation` instead.\n",
      "  ocr = PaddleOCR(use_angle_cls=True, lang='en')  # Angle correction ON\n",
      "c:\\Users\\danis\\anaconda3\\Lib\\site-packages\\paddle\\utils\\cpp_extension\\extension_utils.py:715: UserWarning: No ccache found. Please be aware that recompiling all source files may be required. You can download and install ccache from: https://github.com/ccache/ccache/blob/master/doc/INSTALL.md\n",
      "  warnings.warn(warning_message)\n",
      "\u001b[32mCreating model: ('PP-LCNet_x1_0_doc_ori', None)\u001b[0m\n",
      "\u001b[32mUsing official model (PP-LCNet_x1_0_doc_ori), the model files will be automatically downloaded and saved in C:\\Users\\danis\\.paddlex\\official_models.\u001b[0m\n"
     ]
    },
    {
     "data": {
      "application/vnd.jupyter.widget-view+json": {
       "model_id": "0205819d1c90489abbaa622c7afcbc58",
       "version_major": 2,
       "version_minor": 0
      },
      "text/plain": [
       "Fetching 6 files:   0%|          | 0/6 [00:00<?, ?it/s]"
      ]
     },
     "metadata": {},
     "output_type": "display_data"
    },
    {
     "data": {
      "application/vnd.jupyter.widget-view+json": {
       "model_id": "7d96c5af03a84a68ae6fb505dfba7b0c",
       "version_major": 2,
       "version_minor": 0
      },
      "text/plain": [
       "README.md: 0.00B [00:00, ?B/s]"
      ]
     },
     "metadata": {},
     "output_type": "display_data"
    },
    {
     "data": {
      "application/vnd.jupyter.widget-view+json": {
       "model_id": "fac411aa4d914001a8d2aaf24c318738",
       "version_major": 2,
       "version_minor": 0
      },
      "text/plain": [
       "inference.json: 0.00B [00:00, ?B/s]"
      ]
     },
     "metadata": {},
     "output_type": "display_data"
    },
    {
     "data": {
      "application/vnd.jupyter.widget-view+json": {
       "model_id": "2d3ae2d1909a4acf83c18ce21117c018",
       "version_major": 2,
       "version_minor": 0
      },
      "text/plain": [
       "config.json: 0.00B [00:00, ?B/s]"
      ]
     },
     "metadata": {},
     "output_type": "display_data"
    },
    {
     "data": {
      "application/vnd.jupyter.widget-view+json": {
       "model_id": "0f5e6789f5a74da08b36db14e9b3d728",
       "version_major": 2,
       "version_minor": 0
      },
      "text/plain": [
       ".gitattributes: 0.00B [00:00, ?B/s]"
      ]
     },
     "metadata": {},
     "output_type": "display_data"
    },
    {
     "data": {
      "application/vnd.jupyter.widget-view+json": {
       "model_id": "0ab418e33bec4d8097ed40db33516fd7",
       "version_major": 2,
       "version_minor": 0
      },
      "text/plain": [
       "inference.pdiparams:   0%|          | 0.00/6.75M [00:00<?, ?B/s]"
      ]
     },
     "metadata": {},
     "output_type": "display_data"
    },
    {
     "data": {
      "application/vnd.jupyter.widget-view+json": {
       "model_id": "bfcfe5e2fa744072a8a9f68696ceb7aa",
       "version_major": 2,
       "version_minor": 0
      },
      "text/plain": [
       "inference.yml:   0%|          | 0.00/766 [00:00<?, ?B/s]"
      ]
     },
     "metadata": {},
     "output_type": "display_data"
    },
    {
     "name": "stderr",
     "output_type": "stream",
     "text": [
      "\u001b[32mCreating model: ('UVDoc', None)\u001b[0m\n",
      "\u001b[33mThe model(UVDoc) is not supported to run in MKLDNN mode! Using `paddle` instead!\u001b[0m\n",
      "\u001b[32mUsing official model (UVDoc), the model files will be automatically downloaded and saved in C:\\Users\\danis\\.paddlex\\official_models.\u001b[0m\n"
     ]
    },
    {
     "data": {
      "application/vnd.jupyter.widget-view+json": {
       "model_id": "31b1c90341334bc2bccaec1775fda51c",
       "version_major": 2,
       "version_minor": 0
      },
      "text/plain": [
       "Fetching 6 files:   0%|          | 0/6 [00:00<?, ?it/s]"
      ]
     },
     "metadata": {},
     "output_type": "display_data"
    },
    {
     "data": {
      "application/vnd.jupyter.widget-view+json": {
       "model_id": "c6f3d018cde24f8a86a64cca183a19e2",
       "version_major": 2,
       "version_minor": 0
      },
      "text/plain": [
       "README.md: 0.00B [00:00, ?B/s]"
      ]
     },
     "metadata": {},
     "output_type": "display_data"
    },
    {
     "data": {
      "application/vnd.jupyter.widget-view+json": {
       "model_id": "b4fdb8f61b6e4b4fa370b110a3ab7397",
       "version_major": 2,
       "version_minor": 0
      },
      "text/plain": [
       "inference.yml:   0%|          | 0.00/330 [00:00<?, ?B/s]"
      ]
     },
     "metadata": {},
     "output_type": "display_data"
    },
    {
     "data": {
      "application/vnd.jupyter.widget-view+json": {
       "model_id": "2f90ef12d99545f7ae156b95c9f0f409",
       "version_major": 2,
       "version_minor": 0
      },
      "text/plain": [
       "config.json: 0.00B [00:00, ?B/s]"
      ]
     },
     "metadata": {},
     "output_type": "display_data"
    },
    {
     "data": {
      "application/vnd.jupyter.widget-view+json": {
       "model_id": "e175408276a0429aa813836d70d92413",
       "version_major": 2,
       "version_minor": 0
      },
      "text/plain": [
       "inference.json: 0.00B [00:00, ?B/s]"
      ]
     },
     "metadata": {},
     "output_type": "display_data"
    },
    {
     "data": {
      "application/vnd.jupyter.widget-view+json": {
       "model_id": "58e135470ee14a95892d6ba4b7077a61",
       "version_major": 2,
       "version_minor": 0
      },
      "text/plain": [
       ".gitattributes: 0.00B [00:00, ?B/s]"
      ]
     },
     "metadata": {},
     "output_type": "display_data"
    },
    {
     "data": {
      "application/vnd.jupyter.widget-view+json": {
       "model_id": "edd85efac88e43269d6dc49b20dc8a24",
       "version_major": 2,
       "version_minor": 0
      },
      "text/plain": [
       "inference.pdiparams:   0%|          | 0.00/32.1M [00:00<?, ?B/s]"
      ]
     },
     "metadata": {},
     "output_type": "display_data"
    },
    {
     "name": "stderr",
     "output_type": "stream",
     "text": [
      "\u001b[32mCreating model: ('PP-LCNet_x1_0_textline_ori', None)\u001b[0m\n",
      "\u001b[32mUsing official model (PP-LCNet_x1_0_textline_ori), the model files will be automatically downloaded and saved in C:\\Users\\danis\\.paddlex\\official_models.\u001b[0m\n"
     ]
    },
    {
     "data": {
      "application/vnd.jupyter.widget-view+json": {
       "model_id": "84e0424114c745118be049a64f36ecac",
       "version_major": 2,
       "version_minor": 0
      },
      "text/plain": [
       "Fetching 8 files:   0%|          | 0/8 [00:00<?, ?it/s]"
      ]
     },
     "metadata": {},
     "output_type": "display_data"
    },
    {
     "data": {
      "application/vnd.jupyter.widget-view+json": {
       "model_id": "290ca86bd52e449e9cdaacec0efa5ba3",
       "version_major": 2,
       "version_minor": 0
      },
      "text/plain": [
       "inference.json: 0.00B [00:00, ?B/s]"
      ]
     },
     "metadata": {},
     "output_type": "display_data"
    },
    {
     "data": {
      "application/vnd.jupyter.widget-view+json": {
       "model_id": "2589a1bfe32d4922a9eb0a4ab2a2a2e3",
       "version_major": 2,
       "version_minor": 0
      },
      "text/plain": [
       "config.json: 0.00B [00:00, ?B/s]"
      ]
     },
     "metadata": {},
     "output_type": "display_data"
    },
    {
     "data": {
      "application/vnd.jupyter.widget-view+json": {
       "model_id": "fc55037c59464c5da4b6fba0c88d3a09",
       "version_major": 2,
       "version_minor": 0
      },
      "text/plain": [
       "inference.yml:   0%|          | 0.00/735 [00:00<?, ?B/s]"
      ]
     },
     "metadata": {},
     "output_type": "display_data"
    },
    {
     "data": {
      "application/vnd.jupyter.widget-view+json": {
       "model_id": "058fef21edfa4bab939f7d23639b5933",
       "version_major": 2,
       "version_minor": 0
      },
      "text/plain": [
       "img_textline180_demo_res.jpg:   0%|          | 0.00/6.90k [00:00<?, ?B/s]"
      ]
     },
     "metadata": {},
     "output_type": "display_data"
    },
    {
     "data": {
      "application/vnd.jupyter.widget-view+json": {
       "model_id": "0615af8475a74334afc72732380d9394",
       "version_major": 2,
       "version_minor": 0
      },
      "text/plain": [
       ".gitattributes: 0.00B [00:00, ?B/s]"
      ]
     },
     "metadata": {},
     "output_type": "display_data"
    },
    {
     "data": {
      "application/vnd.jupyter.widget-view+json": {
       "model_id": "98c4b3cdfeda455db73de7a8883b186d",
       "version_major": 2,
       "version_minor": 0
      },
      "text/plain": [
       "inference.pdiparams:   0%|          | 0.00/6.74M [00:00<?, ?B/s]"
      ]
     },
     "metadata": {},
     "output_type": "display_data"
    },
    {
     "data": {
      "application/vnd.jupyter.widget-view+json": {
       "model_id": "68e36aa79a754c618c5883f5087f1c9d",
       "version_major": 2,
       "version_minor": 0
      },
      "text/plain": [
       "img_textline180_demo_res.json:   0%|          | 0.00/236 [00:00<?, ?B/s]"
      ]
     },
     "metadata": {},
     "output_type": "display_data"
    },
    {
     "data": {
      "application/vnd.jupyter.widget-view+json": {
       "model_id": "a7e4dc6033224cf79eeea1e55f3124b4",
       "version_major": 2,
       "version_minor": 0
      },
      "text/plain": [
       "README.md: 0.00B [00:00, ?B/s]"
      ]
     },
     "metadata": {},
     "output_type": "display_data"
    },
    {
     "name": "stderr",
     "output_type": "stream",
     "text": [
      "\u001b[32mCreating model: ('PP-OCRv5_server_det', None)\u001b[0m\n",
      "\u001b[32mUsing official model (PP-OCRv5_server_det), the model files will be automatically downloaded and saved in C:\\Users\\danis\\.paddlex\\official_models.\u001b[0m\n"
     ]
    },
    {
     "data": {
      "application/vnd.jupyter.widget-view+json": {
       "model_id": "1b59502b978a4fc5bfb07261d10b1f93",
       "version_major": 2,
       "version_minor": 0
      },
      "text/plain": [
       "Fetching 6 files:   0%|          | 0/6 [00:00<?, ?it/s]"
      ]
     },
     "metadata": {},
     "output_type": "display_data"
    },
    {
     "data": {
      "application/vnd.jupyter.widget-view+json": {
       "model_id": "d6c473a1405b453aa0c5b19db2c087c0",
       "version_major": 2,
       "version_minor": 0
      },
      "text/plain": [
       "README.md: 0.00B [00:00, ?B/s]"
      ]
     },
     "metadata": {},
     "output_type": "display_data"
    },
    {
     "data": {
      "application/vnd.jupyter.widget-view+json": {
       "model_id": "2d4e11f451964a338e11084b93cbbb7b",
       "version_major": 2,
       "version_minor": 0
      },
      "text/plain": [
       "inference.json: 0.00B [00:00, ?B/s]"
      ]
     },
     "metadata": {},
     "output_type": "display_data"
    },
    {
     "data": {
      "application/vnd.jupyter.widget-view+json": {
       "model_id": "e3b92e2a1675484a9689bf30aa34e4c7",
       "version_major": 2,
       "version_minor": 0
      },
      "text/plain": [
       "config.json: 0.00B [00:00, ?B/s]"
      ]
     },
     "metadata": {},
     "output_type": "display_data"
    },
    {
     "data": {
      "application/vnd.jupyter.widget-view+json": {
       "model_id": "e99a115721f84ccfa48b77e3149d2f2d",
       "version_major": 2,
       "version_minor": 0
      },
      "text/plain": [
       ".gitattributes: 0.00B [00:00, ?B/s]"
      ]
     },
     "metadata": {},
     "output_type": "display_data"
    },
    {
     "data": {
      "application/vnd.jupyter.widget-view+json": {
       "model_id": "b246913a43b8421ea68d724fc055d5e0",
       "version_major": 2,
       "version_minor": 0
      },
      "text/plain": [
       "inference.yml:   0%|          | 0.00/903 [00:00<?, ?B/s]"
      ]
     },
     "metadata": {},
     "output_type": "display_data"
    },
    {
     "data": {
      "application/vnd.jupyter.widget-view+json": {
       "model_id": "274aa7546f5f46dd9ca749c9cca603f3",
       "version_major": 2,
       "version_minor": 0
      },
      "text/plain": [
       "inference.pdiparams:   0%|          | 0.00/87.9M [00:00<?, ?B/s]"
      ]
     },
     "metadata": {},
     "output_type": "display_data"
    },
    {
     "name": "stderr",
     "output_type": "stream",
     "text": [
      "\u001b[32mCreating model: ('PP-OCRv5_server_rec', None)\u001b[0m\n",
      "\u001b[32mUsing official model (PP-OCRv5_server_rec), the model files will be automatically downloaded and saved in C:\\Users\\danis\\.paddlex\\official_models.\u001b[0m\n"
     ]
    },
    {
     "data": {
      "application/vnd.jupyter.widget-view+json": {
       "model_id": "56ea5acc352d4b0aad26f2a4ecd44e41",
       "version_major": 2,
       "version_minor": 0
      },
      "text/plain": [
       "Fetching 6 files:   0%|          | 0/6 [00:00<?, ?it/s]"
      ]
     },
     "metadata": {},
     "output_type": "display_data"
    },
    {
     "data": {
      "application/vnd.jupyter.widget-view+json": {
       "model_id": "5f5e84f9dbec4d63b87f75ef37fba2f4",
       "version_major": 2,
       "version_minor": 0
      },
      "text/plain": [
       "inference.json: 0.00B [00:00, ?B/s]"
      ]
     },
     "metadata": {},
     "output_type": "display_data"
    },
    {
     "data": {
      "application/vnd.jupyter.widget-view+json": {
       "model_id": "3202ea3621ba47cda579dcf5e2055047",
       "version_major": 2,
       "version_minor": 0
      },
      "text/plain": [
       "inference.yml: 0.00B [00:00, ?B/s]"
      ]
     },
     "metadata": {},
     "output_type": "display_data"
    },
    {
     "data": {
      "application/vnd.jupyter.widget-view+json": {
       "model_id": "b8d94df78736440597481ad518612612",
       "version_major": 2,
       "version_minor": 0
      },
      "text/plain": [
       ".gitattributes: 0.00B [00:00, ?B/s]"
      ]
     },
     "metadata": {},
     "output_type": "display_data"
    },
    {
     "data": {
      "application/vnd.jupyter.widget-view+json": {
       "model_id": "5837bab4edf645b3adf1b090ebddd59d",
       "version_major": 2,
       "version_minor": 0
      },
      "text/plain": [
       "README.md: 0.00B [00:00, ?B/s]"
      ]
     },
     "metadata": {},
     "output_type": "display_data"
    },
    {
     "data": {
      "application/vnd.jupyter.widget-view+json": {
       "model_id": "05ede7926af444848b6f3199f7cac7e9",
       "version_major": 2,
       "version_minor": 0
      },
      "text/plain": [
       "config.json: 0.00B [00:00, ?B/s]"
      ]
     },
     "metadata": {},
     "output_type": "display_data"
    },
    {
     "data": {
      "application/vnd.jupyter.widget-view+json": {
       "model_id": "ac5ddef2141c4688b64b931f24377a54",
       "version_major": 2,
       "version_minor": 0
      },
      "text/plain": [
       "inference.pdiparams:   0%|          | 0.00/84.4M [00:00<?, ?B/s]"
      ]
     },
     "metadata": {},
     "output_type": "display_data"
    },
    {
     "name": "stderr",
     "output_type": "stream",
     "text": [
      "C:\\Users\\danis\\AppData\\Local\\Temp\\ipykernel_25312\\1813440581.py:7: DeprecationWarning: Please use `predict` instead.\n",
      "  results = ocr.ocr(image_path, cls=True)\n"
     ]
    },
    {
     "ename": "TypeError",
     "evalue": "PaddleOCR.predict() got an unexpected keyword argument 'cls'",
     "output_type": "error",
     "traceback": [
      "\u001b[1;31m---------------------------------------------------------------------------\u001b[0m",
      "\u001b[1;31mTypeError\u001b[0m                                 Traceback (most recent call last)",
      "Cell \u001b[1;32mIn[11], line 18\u001b[0m\n\u001b[0;32m     15\u001b[0m                 lines\u001b[38;5;241m.\u001b[39mappend(text)\n\u001b[0;32m     17\u001b[0m     \u001b[38;5;28;01mreturn\u001b[39;00m lines\n\u001b[1;32m---> 18\u001b[0m text \u001b[38;5;241m=\u001b[39m \u001b[43mextract_text_paddle\u001b[49m\u001b[43m(\u001b[49m\u001b[38;5;124;43mr\u001b[39;49m\u001b[38;5;124;43m'\u001b[39;49m\u001b[38;5;124;43mdoc\u001b[39;49m\u001b[38;5;124;43m\\\u001b[39;49m\u001b[38;5;124;43mDanishResume.jpg\u001b[39;49m\u001b[38;5;124;43m'\u001b[39;49m\u001b[43m)\u001b[49m\n\u001b[0;32m     19\u001b[0m \u001b[38;5;28mprint\u001b[39m(text)\n",
      "Cell \u001b[1;32mIn[11], line 7\u001b[0m, in \u001b[0;36mextract_text_paddle\u001b[1;34m(image_path)\u001b[0m\n\u001b[0;32m      6\u001b[0m \u001b[38;5;28;01mdef\u001b[39;00m \u001b[38;5;21mextract_text_paddle\u001b[39m(image_path):\n\u001b[1;32m----> 7\u001b[0m     results \u001b[38;5;241m=\u001b[39m \u001b[43mocr\u001b[49m\u001b[38;5;241;43m.\u001b[39;49m\u001b[43mocr\u001b[49m\u001b[43m(\u001b[49m\u001b[43mimage_path\u001b[49m\u001b[43m,\u001b[49m\u001b[43m \u001b[49m\u001b[38;5;28;43mcls\u001b[39;49m\u001b[38;5;241;43m=\u001b[39;49m\u001b[38;5;28;43;01mTrue\u001b[39;49;00m\u001b[43m)\u001b[49m\n\u001b[0;32m      8\u001b[0m     lines \u001b[38;5;241m=\u001b[39m []\n\u001b[0;32m     10\u001b[0m     \u001b[38;5;28;01mfor\u001b[39;00m line_info \u001b[38;5;129;01min\u001b[39;00m results:\n",
      "File \u001b[1;32mc:\\Users\\danis\\anaconda3\\Lib\\site-packages\\typing_extensions.py:2636\u001b[0m, in \u001b[0;36mwrapper\u001b[1;34m(*args, **kwargs)\u001b[0m\n\u001b[0;32m   2634\u001b[0m if hasattr(typing, \"reveal_type\"):  # 3.11+\n\u001b[0;32m   2635\u001b[0m     reveal_type = typing.reveal_type\n\u001b[1;32m-> 2636\u001b[0m else:  # <=3.10\n\u001b[0;32m   2637\u001b[0m     def reveal_type(obj: T, /) -> T:\n\u001b[0;32m   2638\u001b[0m         \"\"\"Reveal the inferred type of a variable.\n\u001b[0;32m   2639\u001b[0m \n\u001b[0;32m   2640\u001b[0m         When a static type checker encounters a call to ``reveal_type()``,\n\u001b[1;32m   (...)\u001b[0m\n\u001b[0;32m   2651\u001b[0m \n\u001b[0;32m   2652\u001b[0m         \"\"\"\n",
      "File \u001b[1;32mc:\\Users\\danis\\anaconda3\\Lib\\site-packages\\paddleocr\\_pipelines\\ocr.py:225\u001b[0m, in \u001b[0;36mPaddleOCR.ocr\u001b[1;34m(self, img, **kwargs)\u001b[0m\n\u001b[0;32m    223\u001b[0m \u001b[38;5;129m@deprecated\u001b[39m(\u001b[38;5;124m\"\u001b[39m\u001b[38;5;124mPlease use `predict` instead.\u001b[39m\u001b[38;5;124m\"\u001b[39m)\n\u001b[0;32m    224\u001b[0m \u001b[38;5;28;01mdef\u001b[39;00m \u001b[38;5;21mocr\u001b[39m(\u001b[38;5;28mself\u001b[39m, img, \u001b[38;5;241m*\u001b[39m\u001b[38;5;241m*\u001b[39mkwargs):\n\u001b[1;32m--> 225\u001b[0m     \u001b[38;5;28;01mreturn\u001b[39;00m \u001b[38;5;28;43mself\u001b[39;49m\u001b[38;5;241;43m.\u001b[39;49m\u001b[43mpredict\u001b[49m\u001b[43m(\u001b[49m\u001b[43mimg\u001b[49m\u001b[43m,\u001b[49m\u001b[43m \u001b[49m\u001b[38;5;241;43m*\u001b[39;49m\u001b[38;5;241;43m*\u001b[39;49m\u001b[43mkwargs\u001b[49m\u001b[43m)\u001b[49m\n",
      "\u001b[1;31mTypeError\u001b[0m: PaddleOCR.predict() got an unexpected keyword argument 'cls'"
     ]
    }
   ],
   "source": [
    "from paddleocr import PaddleOCR\n",
    "\n",
    "# Initialize OCR model\n",
    "ocr = PaddleOCR(use_angle_cls=True, lang='en')  # Angle correction ON\n",
    "\n",
    "def extract_text_paddle(image_path):\n",
    "    results = ocr.ocr(image_path, cls=True)\n",
    "    lines = []\n",
    "\n",
    "    for line_info in results:\n",
    "        for box in line_info:\n",
    "            text = box[1][0]  # box = [coordinates, [text, confidence]]\n",
    "            conf = box[1][1]\n",
    "            if conf > 0.5:\n",
    "                lines.append(text)\n",
    "\n",
    "    return lines\n",
    "text = extract_text_paddle(r'doc\\DanishResume.jpg')\n",
    "print(text)"
   ]
  },
  {
   "cell_type": "code",
   "execution_count": null,
   "id": "447daee0",
   "metadata": {},
   "outputs": [],
   "source": [
    "!pip install \"paddleocr[all]\"\n",
    "!pip install numpy"
   ]
  },
  {
   "cell_type": "code",
   "execution_count": null,
   "id": "7ddc9a4a",
   "metadata": {},
   "outputs": [],
   "source": [
    "!pip install easyocr"
   ]
  },
  {
   "cell_type": "code",
   "execution_count": 3,
   "id": "d0c450eb",
   "metadata": {},
   "outputs": [
    {
     "name": "stderr",
     "output_type": "stream",
     "text": [
      "Neither CUDA nor MPS are available - defaulting to CPU. Note: This module is much faster with a GPU.\n",
      "C:\\Users\\danis\\AppData\\Roaming\\Python\\Python312\\site-packages\\easyocr\\detection.py:78: FutureWarning: You are using `torch.load` with `weights_only=False` (the current default value), which uses the default pickle module implicitly. It is possible to construct malicious pickle data which will execute arbitrary code during unpickling (See https://github.com/pytorch/pytorch/blob/main/SECURITY.md#untrusted-models for more details). In a future release, the default value for `weights_only` will be flipped to `True`. This limits the functions that could be executed during unpickling. Arbitrary objects will no longer be allowed to be loaded via this mode unless they are explicitly allowlisted by the user via `torch.serialization.add_safe_globals`. We recommend you start setting `weights_only=True` for any use case where you don't have full control of the loaded file. Please open an issue on GitHub for any issues related to this experimental feature.\n",
      "  net.load_state_dict(copyStateDict(torch.load(trained_model, map_location=device)))\n",
      "C:\\Users\\danis\\AppData\\Roaming\\Python\\Python312\\site-packages\\easyocr\\recognition.py:169: FutureWarning: You are using `torch.load` with `weights_only=False` (the current default value), which uses the default pickle module implicitly. It is possible to construct malicious pickle data which will execute arbitrary code during unpickling (See https://github.com/pytorch/pytorch/blob/main/SECURITY.md#untrusted-models for more details). In a future release, the default value for `weights_only` will be flipped to `True`. This limits the functions that could be executed during unpickling. Arbitrary objects will no longer be allowed to be loaded via this mode unless they are explicitly allowlisted by the user via `torch.serialization.add_safe_globals`. We recommend you start setting `weights_only=True` for any use case where you don't have full control of the loaded file. Please open an issue on GitHub for any issues related to this experimental feature.\n",
      "  state_dict = torch.load(model_path, map_location=device)\n"
     ]
    },
    {
     "name": "stdout",
     "output_type": "stream",
     "text": [
      "['DANISH SHAIKH', '9221642175', 'Etnail', 'conis7897G1@FMjilcot', 'Linke uln', 'Httpsc/an\"linkec L.CDT', 'djnith', 'E3442121y', 'SKILLS', 'Data Analysis', 'Mump  Pancas', 'Matplctlib', 'Power', 'PrograMMMNE', 'nuages', 'Pulron CiCi', 'vascrlot', 'Datadrses', 'SoL5CL', 'Postgresol', 'Developrent: HTMLICS, React; Tailwind CSS, JavaScript', 'Other Technolozies', 'GivGitHub', 'Opera ing Swsterns', 'Computer Networks, DBMS', 'MaEeMAIGS', 'Financial AccouMnrg Statistics, Probabillty, Linear', 'EXPERIENCE', 'Ie Gacnten', 'apollo Hospltals', '2024', 'August 24, 2024', 'Tessas]', 'CDlectinpundarpani', 'ditttam', 'cedartnenic', 'ersunrzaccurute ertry irtoirterrJlrecordsusneDiCC _', 'Cjincihandz', 'Eadenence', 'variarzeanalysis dataeZcujcy, und reportirZJutomatan:', 'ObSErvcd datallow', 'teamztthinthe orcanizabdn', 'Lainingins  htsintodatamanapemert prjcesses.', 'Enhuncedcommuricabangkills 3y cooromatingwth teamstar DJt CD eztionand vildationtuss', 'PROJECTS', 'Gaming-Gea', 'Hub', 'E-Commerce Data', 'Product Analysis Project', 'Tech Stack: Python  SOL', 'Fosteresol', 'React Tailwind CSS', 'Developed', 'aiilliaie-based eamting accessurles platiorm with caie corized producc Iistines and cficina insienls', 'hano', 'pfe#Vcratet', 'fitering,and backe', 'validauon; sinulating real-une', 'Fme', 'Fnancalaata', 'Hionc', 'herted surcmur', 'database', 'andusel', 'queres', '(raCk inentcny; trencing products', 'aDfice', 'Gomoarisons', 'Alkemv Event Website', 'Tech Stack: Aeaci', 'Javascript Tallwind CSS', 'Lort Juted', 'dcacapmert', 'cen-Ni', 'cljtont', 'collcee  bezesticst', 'Jro din &vertenfcrmjtion', 'rcristotans', 'ardcetails', 'ollnbcric', 'ettectnely witt 7', 'contributir-', 'czvclopmcnE', 'Fancipating', 'Tcotemeris arahusa7c', 'LeSinc', 'CCMcnXNtJR {tror communicatanand tcamwork skillz', 'Leadership Experience', 'Head of Operations', 'Durelupel', '(GDCI', 'nug 2024 _', 'Prerent', 'Leidund ccordinz', 'wcrhon;', 'Manape #udent EinIclpatlon dah and Iunbin accurale (Iord;', 'Fcsler collhcrlcninicle;', 'camiuntrtlon wihm Ikatram', 'Sueamlme @feralinn;', 'CManl', 'FMA', 'enient and experere;', 'esident; Coder $ Club', 'Aug 2023 _', '5ep/20Z4', 'fnundedthelacere GmpAndenaJlsaedaxJrnt', 'comiur-', 'UrFanicdmuitip', 'nactathors', 'Fromoting collabzration and innzvation_', 'Delcocd', 'cammlnicaticntills trraurh tcjrark and Eventminapemcnt;', 'Yertored', 'rudenzsincoding andaroblettalvir- tcchniauc;', 'Education', 'Bharali Vidyapeelh Deemed', 'Unnensil   Kharenar', 'acr (Bachelor', 'ccmp uter Applicalions)', '1ug 2022 _', 'crerenm', 'Cgpa', '2.7/10', 'nh-', 'Ngebh', 'Cuu', 'Cieup', 'edrni', 'Ketie1']\n"
     ]
    }
   ],
   "source": [
    "import easyocr\n",
    "reader = easyocr.Reader(['en'])\n",
    "results = reader.readtext(r\"doc\\DanishResume.jpg\", detail=0)\n",
    "print(results)\n"
   ]
  },
  {
   "cell_type": "code",
   "execution_count": null,
   "id": "fe75edce",
   "metadata": {},
   "outputs": [],
   "source": [
    "!pip install paddleocr"
   ]
  },
  {
   "cell_type": "code",
   "execution_count": 5,
   "id": "0ca6a4a8",
   "metadata": {},
   "outputs": [
    {
     "name": "stdout",
     "output_type": "stream",
     "text": [
      "Requirement already satisfied: paddlepaddle in c:\\users\\danis\\anaconda3\\lib\\site-packages (3.1.0)\n",
      "Requirement already satisfied: httpx in c:\\users\\danis\\anaconda3\\lib\\site-packages (from paddlepaddle) (0.28.1)\n",
      "Requirement already satisfied: numpy>=1.21 in c:\\users\\danis\\anaconda3\\lib\\site-packages (from paddlepaddle) (1.26.4)\n",
      "Requirement already satisfied: protobuf>=3.20.2 in c:\\users\\danis\\anaconda3\\lib\\site-packages (from paddlepaddle) (3.20.3)\n",
      "Requirement already satisfied: Pillow in c:\\users\\danis\\anaconda3\\lib\\site-packages (from paddlepaddle) (10.3.0)\n",
      "Requirement already satisfied: decorator in c:\\users\\danis\\appdata\\roaming\\python\\python312\\site-packages (from paddlepaddle) (5.1.1)\n",
      "Requirement already satisfied: opt-einsum==3.3.0 in c:\\users\\danis\\anaconda3\\lib\\site-packages (from paddlepaddle) (3.3.0)\n",
      "Requirement already satisfied: networkx in c:\\users\\danis\\appdata\\roaming\\python\\python312\\site-packages (from paddlepaddle) (3.3)\n",
      "Requirement already satisfied: typing-extensions in c:\\users\\danis\\anaconda3\\lib\\site-packages (from paddlepaddle) (4.14.0)\n",
      "Requirement already satisfied: anyio in c:\\users\\danis\\anaconda3\\lib\\site-packages (from httpx->paddlepaddle) (4.2.0)\n",
      "Requirement already satisfied: certifi in c:\\users\\danis\\anaconda3\\lib\\site-packages (from httpx->paddlepaddle) (2024.6.2)\n",
      "Requirement already satisfied: httpcore==1.* in c:\\users\\danis\\anaconda3\\lib\\site-packages (from httpx->paddlepaddle) (1.0.9)\n",
      "Requirement already satisfied: idna in c:\\users\\danis\\anaconda3\\lib\\site-packages (from httpx->paddlepaddle) (3.7)\n",
      "Requirement already satisfied: h11>=0.16 in c:\\users\\danis\\anaconda3\\lib\\site-packages (from httpcore==1.*->httpx->paddlepaddle) (0.16.0)\n",
      "Requirement already satisfied: sniffio>=1.1 in c:\\users\\danis\\anaconda3\\lib\\site-packages (from anyio->httpx->paddlepaddle) (1.3.0)\n"
     ]
    }
   ],
   "source": [
    "!pip install paddlepaddle"
   ]
  },
  {
   "cell_type": "code",
   "execution_count": 13,
   "id": "5389c203",
   "metadata": {},
   "outputs": [
    {
     "name": "stdout",
     "output_type": "stream",
     "text": [
      "Looking in links: https://www.paddlepaddle.org.cn/whl/windows/mkl/avx/stable.html\n",
      "Requirement already satisfied: paddlepaddle in c:\\users\\danis\\anaconda3\\lib\\site-packages (3.1.0)\n",
      "Requirement already satisfied: httpx in c:\\users\\danis\\anaconda3\\lib\\site-packages (from paddlepaddle) (0.28.1)\n",
      "Requirement already satisfied: numpy>=1.21 in c:\\users\\danis\\anaconda3\\lib\\site-packages (from paddlepaddle) (1.26.4)\n",
      "Requirement already satisfied: protobuf>=3.20.2 in c:\\users\\danis\\anaconda3\\lib\\site-packages (from paddlepaddle) (3.20.3)\n",
      "Requirement already satisfied: Pillow in c:\\users\\danis\\anaconda3\\lib\\site-packages (from paddlepaddle) (10.3.0)\n",
      "Requirement already satisfied: decorator in c:\\users\\danis\\appdata\\roaming\\python\\python312\\site-packages (from paddlepaddle) (5.1.1)\n",
      "Requirement already satisfied: opt-einsum==3.3.0 in c:\\users\\danis\\anaconda3\\lib\\site-packages (from paddlepaddle) (3.3.0)\n",
      "Requirement already satisfied: networkx in c:\\users\\danis\\appdata\\roaming\\python\\python312\\site-packages (from paddlepaddle) (3.3)\n",
      "Requirement already satisfied: typing-extensions in c:\\users\\danis\\anaconda3\\lib\\site-packages (from paddlepaddle) (4.14.0)\n",
      "Requirement already satisfied: anyio in c:\\users\\danis\\anaconda3\\lib\\site-packages (from httpx->paddlepaddle) (4.2.0)\n",
      "Requirement already satisfied: certifi in c:\\users\\danis\\anaconda3\\lib\\site-packages (from httpx->paddlepaddle) (2024.6.2)\n",
      "Requirement already satisfied: httpcore==1.* in c:\\users\\danis\\anaconda3\\lib\\site-packages (from httpx->paddlepaddle) (1.0.9)\n",
      "Requirement already satisfied: idna in c:\\users\\danis\\anaconda3\\lib\\site-packages (from httpx->paddlepaddle) (3.7)\n",
      "Requirement already satisfied: h11>=0.16 in c:\\users\\danis\\anaconda3\\lib\\site-packages (from httpcore==1.*->httpx->paddlepaddle) (0.16.0)\n",
      "Requirement already satisfied: sniffio>=1.1 in c:\\users\\danis\\anaconda3\\lib\\site-packages (from anyio->httpx->paddlepaddle) (1.3.0)\n"
     ]
    }
   ],
   "source": [
    "!pip install paddlepaddle -f https://www.paddlepaddle.org.cn/whl/windows/mkl/avx/stable.html\n"
   ]
  },
  {
   "cell_type": "code",
   "execution_count": 15,
   "id": "7010c5e7",
   "metadata": {},
   "outputs": [
    {
     "name": "stderr",
     "output_type": "stream",
     "text": [
      "C:\\Users\\danis\\AppData\\Local\\Temp\\ipykernel_23068\\3501084195.py:5: DeprecationWarning: The parameter `use_angle_cls` has been deprecated and will be removed in the future. Please use `use_textline_orientation` instead.\n",
      "  ocr = PaddleOCR(use_angle_cls=True, lang='en')  # Downloaded on first run\n",
      "\u001b[32mCreating model: ('PP-LCNet_x1_0_doc_ori', None)\u001b[0m\n",
      "\u001b[32mUsing official model (PP-LCNet_x1_0_doc_ori), the model files will be automatically downloaded and saved in C:\\Users\\danis\\.paddlex\\official_models.\u001b[0m\n"
     ]
    },
    {
     "data": {
      "application/vnd.jupyter.widget-view+json": {
       "model_id": "e937e2bae5ff44b1800663554edb386e",
       "version_major": 2,
       "version_minor": 0
      },
      "text/plain": [
       "Fetching 6 files:   0%|          | 0/6 [00:00<?, ?it/s]"
      ]
     },
     "metadata": {},
     "output_type": "display_data"
    },
    {
     "name": "stderr",
     "output_type": "stream",
     "text": [
      "\u001b[32mCreating model: ('UVDoc', None)\u001b[0m\n",
      "\u001b[33mThe model(UVDoc) is not supported to run in MKLDNN mode! Using `paddle` instead!\u001b[0m\n",
      "\u001b[32mUsing official model (UVDoc), the model files will be automatically downloaded and saved in C:\\Users\\danis\\.paddlex\\official_models.\u001b[0m\n"
     ]
    },
    {
     "data": {
      "application/vnd.jupyter.widget-view+json": {
       "model_id": "b0f0f4dfb0444913b619d986d1d6f86e",
       "version_major": 2,
       "version_minor": 0
      },
      "text/plain": [
       "Fetching 6 files:   0%|          | 0/6 [00:00<?, ?it/s]"
      ]
     },
     "metadata": {},
     "output_type": "display_data"
    },
    {
     "name": "stderr",
     "output_type": "stream",
     "text": [
      "\u001b[32mCreating model: ('PP-LCNet_x1_0_textline_ori', None)\u001b[0m\n",
      "\u001b[32mUsing official model (PP-LCNet_x1_0_textline_ori), the model files will be automatically downloaded and saved in C:\\Users\\danis\\.paddlex\\official_models.\u001b[0m\n"
     ]
    },
    {
     "data": {
      "application/vnd.jupyter.widget-view+json": {
       "model_id": "07a109429eed413c9c1202036836e849",
       "version_major": 2,
       "version_minor": 0
      },
      "text/plain": [
       "Fetching 8 files:   0%|          | 0/8 [00:00<?, ?it/s]"
      ]
     },
     "metadata": {},
     "output_type": "display_data"
    },
    {
     "name": "stderr",
     "output_type": "stream",
     "text": [
      "\u001b[32mCreating model: ('PP-OCRv5_server_det', None)\u001b[0m\n",
      "\u001b[32mUsing official model (PP-OCRv5_server_det), the model files will be automatically downloaded and saved in C:\\Users\\danis\\.paddlex\\official_models.\u001b[0m\n"
     ]
    },
    {
     "data": {
      "application/vnd.jupyter.widget-view+json": {
       "model_id": "4cb39cc0e14548cbbcd0da0d39879f42",
       "version_major": 2,
       "version_minor": 0
      },
      "text/plain": [
       "Fetching 6 files:   0%|          | 0/6 [00:00<?, ?it/s]"
      ]
     },
     "metadata": {},
     "output_type": "display_data"
    },
    {
     "name": "stderr",
     "output_type": "stream",
     "text": [
      "\u001b[32mCreating model: ('PP-OCRv5_server_rec', None)\u001b[0m\n",
      "\u001b[32mUsing official model (PP-OCRv5_server_rec), the model files will be automatically downloaded and saved in C:\\Users\\danis\\.paddlex\\official_models.\u001b[0m\n"
     ]
    },
    {
     "data": {
      "application/vnd.jupyter.widget-view+json": {
       "model_id": "b4c6611f504e485c9d5ad8bc136a62b8",
       "version_major": 2,
       "version_minor": 0
      },
      "text/plain": [
       "Fetching 6 files:   0%|          | 0/6 [00:00<?, ?it/s]"
      ]
     },
     "metadata": {},
     "output_type": "display_data"
    },
    {
     "name": "stderr",
     "output_type": "stream",
     "text": [
      "C:\\Users\\danis\\AppData\\Local\\Temp\\ipykernel_23068\\3501084195.py:12: DeprecationWarning: Please use `predict` instead.\n",
      "  results = ocr.ocr(image_path)\n"
     ]
    },
    {
     "name": "stdout",
     "output_type": "stream",
     "text": [
      "n\n",
      "a\n",
      "o\n",
      "t\n",
      "o\n",
      "e\n",
      "e\n",
      "e\n",
      "e\n",
      "e\n",
      "e\n",
      "i\n",
      "e\n",
      "e\n"
     ]
    }
   ],
   "source": [
    "from paddleocr import PaddleOCR\n",
    "import cv2\n",
    "\n",
    "# Load OCR model (English)\n",
    "ocr = PaddleOCR(use_angle_cls=True, lang='en')  # Downloaded on first run\n",
    "\n",
    "# Load your image\n",
    "image_path = r'doc\\DanishResume.jpg'\n",
    "image = cv2.imread(image_path)\n",
    "\n",
    "# Run OCR\n",
    "results = ocr.ocr(image_path)\n",
    "\n",
    "# Display the extracted text\n",
    "extracted_text = []\n",
    "for line in results[0]:\n",
    "    text = line[1][0]\n",
    "    extracted_text.append(text)\n",
    "    print(text)  # Print each line\n",
    "\n",
    "\n"
   ]
  },
  {
   "cell_type": "code",
   "execution_count": null,
   "id": "2734a8b4",
   "metadata": {},
   "outputs": [],
   "source": []
  }
 ],
 "metadata": {
  "kernelspec": {
   "display_name": "base",
   "language": "python",
   "name": "python3"
  },
  "language_info": {
   "codemirror_mode": {
    "name": "ipython",
    "version": 3
   },
   "file_extension": ".py",
   "mimetype": "text/x-python",
   "name": "python",
   "nbconvert_exporter": "python",
   "pygments_lexer": "ipython3",
   "version": "3.12.4"
  }
 },
 "nbformat": 4,
 "nbformat_minor": 5
}
