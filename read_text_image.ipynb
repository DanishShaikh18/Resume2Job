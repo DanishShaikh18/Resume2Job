{
 "cells": [
  {
   "cell_type": "code",
   "execution_count": 2,
   "id": "6076a712",
   "metadata": {},
   "outputs": [
    {
     "name": "stdout",
     "output_type": "stream",
     "text": [
      "Collecting pytesseract\n",
      "  Using cached pytesseract-0.3.13-py3-none-any.whl.metadata (11 kB)\n",
      "Requirement already satisfied: packaging>=21.3 in c:\\users\\danis\\appdata\\roaming\\python\\python312\\site-packages (from pytesseract) (24.1)\n",
      "Requirement already satisfied: Pillow>=8.0.0 in c:\\users\\danis\\anaconda3\\lib\\site-packages (from pytesseract) (10.3.0)\n",
      "Using cached pytesseract-0.3.13-py3-none-any.whl (14 kB)\n",
      "Installing collected packages: pytesseract\n",
      "Successfully installed pytesseract-0.3.13\n"
     ]
    }
   ],
   "source": [
    "!pip install pytesseract"
   ]
  },
  {
   "cell_type": "code",
   "execution_count": 6,
   "id": "006aef68",
   "metadata": {},
   "outputs": [
    {
     "name": "stdout",
     "output_type": "stream",
     "text": [
      "EXPERIENCE\n",
      "Tech Intern — Apollo Hospitals June 27, 2024 — August 24, 2024\n",
      "\n",
      "- Assisted in collecting and organizing data from various departments, ensuring accurate entry into internal records using Excel.\n",
      "+ Gained hands-on experience in variance analysis, data accuracy, and reporting automation.\n",
      "\n",
      "+ Observed data flow across teams within the organization, gaining insights into data management processes.\n",
      "\n"
     ]
    }
   ],
   "source": [
    "from PIL import Image\n",
    "import pytesseract\n",
    "\n",
    "img = Image.open(r\"doc\\image.png\")\n",
    "text = pytesseract.image_to_string(img)\n",
    "print(text)\n"
   ]
  },
  {
   "cell_type": "code",
   "execution_count": 7,
   "id": "de1f081c",
   "metadata": {},
   "outputs": [],
   "source": [
    "import cv2\n",
    "import pytesseract\n",
    "from PIL import Image\n",
    "import numpy as np\n",
    "import re\n",
    "\n",
    "# Optional: EasyOCR fallback\n",
    "# import easyocr\n",
    "# reader = easyocr.Reader(['en'])\n",
    "\n",
    "def clean_and_ocr(image_path, use_easyocr_if_failed=False):\n",
    "    # Load image\n",
    "    image = cv2.imread(image_path)\n",
    "    if image is None:\n",
    "        return \"Image not found.\"\n",
    "\n",
    "    # Step 1: Preprocessing\n",
    "    gray = cv2.cvtColor(image, cv2.COLOR_BGR2GRAY)\n",
    "    \n",
    "    # Apply thresholding to convert to B&W\n",
    "    _, thresh = cv2.threshold(gray, 0, 255, cv2.THRESH_BINARY + cv2.THRESH_OTSU)\n",
    "    \n",
    "    # Resize if text is small\n",
    "    height, width = thresh.shape\n",
    "    if height < 800:\n",
    "        thresh = cv2.resize(thresh, None, fx=2, fy=2, interpolation=cv2.INTER_LINEAR)\n",
    "    \n",
    "    # Step 2: OCR with Tesseract\n",
    "    custom_config = r'--oem 3 --psm 6'  # You can tune this\n",
    "    text = pytesseract.image_to_string(thresh, config=custom_config)\n",
    "\n",
    "    # Step 3: Filter out junk lines\n",
    "    cleaned_lines = []\n",
    "    for line in text.split(\"\\n\"):\n",
    "        line = line.strip()\n",
    "        if len(line) > 3 and re.search(r'[a-zA-Z0-9]', line):  # Filter garbage\n",
    "            cleaned_lines.append(line)\n",
    "\n",
    "    # Step 4: If Tesseract failed and fallback is enabled\n",
    "    if not cleaned_lines and use_easyocr_if_failed:\n",
    "        print(\"Fallback to EasyOCR...\")\n",
    "        results = reader.readtext(image_path, detail=0)\n",
    "        return results\n",
    "\n",
    "    return cleaned_lines\n"
   ]
  },
  {
   "cell_type": "code",
   "execution_count": 9,
   "id": "824d41ca",
   "metadata": {},
   "outputs": [
    {
     "name": "stdout",
     "output_type": "stream",
     "text": [
      "sf 21ca2is | mall = aaninse7cL@pmslco | inked = Nofima\n",
      "SKILLS.\n",
      "+ Bata analysis: Excel um, Pend, Mato Power BI\n",
      "+ Progeamasing Languages: ytnon, C/CHs, Jaa, aaseiat\n",
      "+ Databases: SOL/My SOL, PstgesO\n",
      "+ Web Development: HTML/CSS, React Tailed 55, JoaSeript\n",
      "+ Other Teemologls: siya, Operating Systems, Computer Networks, DBMS\n",
      "“+ Mathemates: Franca serous, tats, Probably, Lnea Alger\n",
      "EXPERIENCE\n",
      "‘Teh ern Apalioospeals uae 27,2024— August 28,2028,\n",
      "+ Arsiedincalectingandargeicng da forviou dares ensuing secut ntynatrfernal scores urge\n",
      "+ Obsereadtatawacozs teams ihintheegeizton,tinngeghtsinte data management ractsze,\n",
      "+ Eahancedcammuricatn ills coormating wn team fo arta colectonndaldation 3s,\n",
      "PROJECTS\n",
      "GGaming-Gear Hub ~ €-commerce Osta & Product Analysis Project,\n",
      "‘Teeh tacks Python, SOL PostgreSQL, React Tali 55\n",
      "“+ nevetopd an affane-ased gang acessories platform lth <ategareed produc lstlgs and peng asghts\n",
      "“Handled product data entry, fianng nd backend valdation, simulating real-time sconce Rana data\n",
      "flows\n",
      "«+ Cieated stracture databases and used SL quenes to rackumenton, rendlng products, 304 price\n",
      "comparisons\n",
      "‘Alkerny Event Website\n",
      "“Tech Stace Rose, asc, Tai 5S\n",
      "+ canine tthe dwtoment oferta afr frau allege’ ete romding event martin,\n",
      "1 Galobonte eetney thn 2 eam, contributing to developer ts and painting equrement rahi ed\n",
      "Leadership Experience\n",
      "Head af Operatins, Google Developer Gruup (COG) ‘aug 2024 Present\n",
      "Nana teat dn anna ease ae\n",
      "1 Samii operas ncaavce san engagement and eg\n",
      "‘lee Prstlent, Coders us ug 2023~Sep/2024\n",
      "1 organsedmuliptensctthore ramet calsberstion nd roti.\n",
      "Education\n",
      "‘Sharad vidyapecth(Dcemed to be Urwersy),Kharghar\n",
      "1A [Sachelor of Computer Appheatons) uy 2022- resem\n",
      "corn: 87/10\n"
     ]
    }
   ],
   "source": [
    "text_lines = clean_and_ocr(r\"doc\\DanishResume.jpg\")\n",
    "print(\"\\n\".join(text_lines))\n"
   ]
  },
  {
   "cell_type": "code",
   "execution_count": null,
   "id": "740dc4cf",
   "metadata": {},
   "outputs": [],
   "source": [
    "!pip install paddleocr\n",
    "!pip install paddlepaddle\n"
   ]
  },
  {
   "cell_type": "code",
   "execution_count": 11,
   "id": "0332d0e7",
   "metadata": {},
   "outputs": [
    {
     "name": "stderr",
     "output_type": "stream",
     "text": [
      "C:\\Users\\danis\\AppData\\Local\\Temp\\ipykernel_25312\\1813440581.py:4: DeprecationWarning: The parameter `use_angle_cls` has been deprecated and will be removed in the future. Please use `use_textline_orientation` instead.\n",
      "  ocr = PaddleOCR(use_angle_cls=True, lang='en')  # Angle correction ON\n",
      "c:\\Users\\danis\\anaconda3\\Lib\\site-packages\\paddle\\utils\\cpp_extension\\extension_utils.py:715: UserWarning: No ccache found. Please be aware that recompiling all source files may be required. You can download and install ccache from: https://github.com/ccache/ccache/blob/master/doc/INSTALL.md\n",
      "  warnings.warn(warning_message)\n",
      "\u001b[32mCreating model: ('PP-LCNet_x1_0_doc_ori', None)\u001b[0m\n",
      "\u001b[32mUsing official model (PP-LCNet_x1_0_doc_ori), the model files will be automatically downloaded and saved in C:\\Users\\danis\\.paddlex\\official_models.\u001b[0m\n"
     ]
    },
    {
     "data": {
      "application/vnd.jupyter.widget-view+json": {
       "model_id": "0205819d1c90489abbaa622c7afcbc58",
       "version_major": 2,
       "version_minor": 0
      },
      "text/plain": [
       "Fetching 6 files:   0%|          | 0/6 [00:00<?, ?it/s]"
      ]
     },
     "metadata": {},
     "output_type": "display_data"
    },
    {
     "data": {
      "application/vnd.jupyter.widget-view+json": {
       "model_id": "7d96c5af03a84a68ae6fb505dfba7b0c",
       "version_major": 2,
       "version_minor": 0
      },
      "text/plain": [
       "README.md: 0.00B [00:00, ?B/s]"
      ]
     },
     "metadata": {},
     "output_type": "display_data"
    },
    {
     "data": {
      "application/vnd.jupyter.widget-view+json": {
       "model_id": "fac411aa4d914001a8d2aaf24c318738",
       "version_major": 2,
       "version_minor": 0
      },
      "text/plain": [
       "inference.json: 0.00B [00:00, ?B/s]"
      ]
     },
     "metadata": {},
     "output_type": "display_data"
    },
    {
     "data": {
      "application/vnd.jupyter.widget-view+json": {
       "model_id": "2d3ae2d1909a4acf83c18ce21117c018",
       "version_major": 2,
       "version_minor": 0
      },
      "text/plain": [
       "config.json: 0.00B [00:00, ?B/s]"
      ]
     },
     "metadata": {},
     "output_type": "display_data"
    },
    {
     "data": {
      "application/vnd.jupyter.widget-view+json": {
       "model_id": "0f5e6789f5a74da08b36db14e9b3d728",
       "version_major": 2,
       "version_minor": 0
      },
      "text/plain": [
       ".gitattributes: 0.00B [00:00, ?B/s]"
      ]
     },
     "metadata": {},
     "output_type": "display_data"
    },
    {
     "data": {
      "application/vnd.jupyter.widget-view+json": {
       "model_id": "0ab418e33bec4d8097ed40db33516fd7",
       "version_major": 2,
       "version_minor": 0
      },
      "text/plain": [
       "inference.pdiparams:   0%|          | 0.00/6.75M [00:00<?, ?B/s]"
      ]
     },
     "metadata": {},
     "output_type": "display_data"
    },
    {
     "data": {
      "application/vnd.jupyter.widget-view+json": {
       "model_id": "bfcfe5e2fa744072a8a9f68696ceb7aa",
       "version_major": 2,
       "version_minor": 0
      },
      "text/plain": [
       "inference.yml:   0%|          | 0.00/766 [00:00<?, ?B/s]"
      ]
     },
     "metadata": {},
     "output_type": "display_data"
    },
    {
     "name": "stderr",
     "output_type": "stream",
     "text": [
      "\u001b[32mCreating model: ('UVDoc', None)\u001b[0m\n",
      "\u001b[33mThe model(UVDoc) is not supported to run in MKLDNN mode! Using `paddle` instead!\u001b[0m\n",
      "\u001b[32mUsing official model (UVDoc), the model files will be automatically downloaded and saved in C:\\Users\\danis\\.paddlex\\official_models.\u001b[0m\n"
     ]
    },
    {
     "data": {
      "application/vnd.jupyter.widget-view+json": {
       "model_id": "31b1c90341334bc2bccaec1775fda51c",
       "version_major": 2,
       "version_minor": 0
      },
      "text/plain": [
       "Fetching 6 files:   0%|          | 0/6 [00:00<?, ?it/s]"
      ]
     },
     "metadata": {},
     "output_type": "display_data"
    },
    {
     "data": {
      "application/vnd.jupyter.widget-view+json": {
       "model_id": "c6f3d018cde24f8a86a64cca183a19e2",
       "version_major": 2,
       "version_minor": 0
      },
      "text/plain": [
       "README.md: 0.00B [00:00, ?B/s]"
      ]
     },
     "metadata": {},
     "output_type": "display_data"
    },
    {
     "data": {
      "application/vnd.jupyter.widget-view+json": {
       "model_id": "b4fdb8f61b6e4b4fa370b110a3ab7397",
       "version_major": 2,
       "version_minor": 0
      },
      "text/plain": [
       "inference.yml:   0%|          | 0.00/330 [00:00<?, ?B/s]"
      ]
     },
     "metadata": {},
     "output_type": "display_data"
    },
    {
     "data": {
      "application/vnd.jupyter.widget-view+json": {
       "model_id": "2f90ef12d99545f7ae156b95c9f0f409",
       "version_major": 2,
       "version_minor": 0
      },
      "text/plain": [
       "config.json: 0.00B [00:00, ?B/s]"
      ]
     },
     "metadata": {},
     "output_type": "display_data"
    },
    {
     "data": {
      "application/vnd.jupyter.widget-view+json": {
       "model_id": "e175408276a0429aa813836d70d92413",
       "version_major": 2,
       "version_minor": 0
      },
      "text/plain": [
       "inference.json: 0.00B [00:00, ?B/s]"
      ]
     },
     "metadata": {},
     "output_type": "display_data"
    },
    {
     "data": {
      "application/vnd.jupyter.widget-view+json": {
       "model_id": "58e135470ee14a95892d6ba4b7077a61",
       "version_major": 2,
       "version_minor": 0
      },
      "text/plain": [
       ".gitattributes: 0.00B [00:00, ?B/s]"
      ]
     },
     "metadata": {},
     "output_type": "display_data"
    },
    {
     "data": {
      "application/vnd.jupyter.widget-view+json": {
       "model_id": "edd85efac88e43269d6dc49b20dc8a24",
       "version_major": 2,
       "version_minor": 0
      },
      "text/plain": [
       "inference.pdiparams:   0%|          | 0.00/32.1M [00:00<?, ?B/s]"
      ]
     },
     "metadata": {},
     "output_type": "display_data"
    },
    {
     "name": "stderr",
     "output_type": "stream",
     "text": [
      "\u001b[32mCreating model: ('PP-LCNet_x1_0_textline_ori', None)\u001b[0m\n",
      "\u001b[32mUsing official model (PP-LCNet_x1_0_textline_ori), the model files will be automatically downloaded and saved in C:\\Users\\danis\\.paddlex\\official_models.\u001b[0m\n"
     ]
    },
    {
     "data": {
      "application/vnd.jupyter.widget-view+json": {
       "model_id": "84e0424114c745118be049a64f36ecac",
       "version_major": 2,
       "version_minor": 0
      },
      "text/plain": [
       "Fetching 8 files:   0%|          | 0/8 [00:00<?, ?it/s]"
      ]
     },
     "metadata": {},
     "output_type": "display_data"
    },
    {
     "data": {
      "application/vnd.jupyter.widget-view+json": {
       "model_id": "290ca86bd52e449e9cdaacec0efa5ba3",
       "version_major": 2,
       "version_minor": 0
      },
      "text/plain": [
       "inference.json: 0.00B [00:00, ?B/s]"
      ]
     },
     "metadata": {},
     "output_type": "display_data"
    },
    {
     "data": {
      "application/vnd.jupyter.widget-view+json": {
       "model_id": "2589a1bfe32d4922a9eb0a4ab2a2a2e3",
       "version_major": 2,
       "version_minor": 0
      },
      "text/plain": [
       "config.json: 0.00B [00:00, ?B/s]"
      ]
     },
     "metadata": {},
     "output_type": "display_data"
    },
    {
     "data": {
      "application/vnd.jupyter.widget-view+json": {
       "model_id": "fc55037c59464c5da4b6fba0c88d3a09",
       "version_major": 2,
       "version_minor": 0
      },
      "text/plain": [
       "inference.yml:   0%|          | 0.00/735 [00:00<?, ?B/s]"
      ]
     },
     "metadata": {},
     "output_type": "display_data"
    },
    {
     "data": {
      "application/vnd.jupyter.widget-view+json": {
       "model_id": "058fef21edfa4bab939f7d23639b5933",
       "version_major": 2,
       "version_minor": 0
      },
      "text/plain": [
       "img_textline180_demo_res.jpg:   0%|          | 0.00/6.90k [00:00<?, ?B/s]"
      ]
     },
     "metadata": {},
     "output_type": "display_data"
    },
    {
     "data": {
      "application/vnd.jupyter.widget-view+json": {
       "model_id": "0615af8475a74334afc72732380d9394",
       "version_major": 2,
       "version_minor": 0
      },
      "text/plain": [
       ".gitattributes: 0.00B [00:00, ?B/s]"
      ]
     },
     "metadata": {},
     "output_type": "display_data"
    },
    {
     "data": {
      "application/vnd.jupyter.widget-view+json": {
       "model_id": "98c4b3cdfeda455db73de7a8883b186d",
       "version_major": 2,
       "version_minor": 0
      },
      "text/plain": [
       "inference.pdiparams:   0%|          | 0.00/6.74M [00:00<?, ?B/s]"
      ]
     },
     "metadata": {},
     "output_type": "display_data"
    },
    {
     "data": {
      "application/vnd.jupyter.widget-view+json": {
       "model_id": "68e36aa79a754c618c5883f5087f1c9d",
       "version_major": 2,
       "version_minor": 0
      },
      "text/plain": [
       "img_textline180_demo_res.json:   0%|          | 0.00/236 [00:00<?, ?B/s]"
      ]
     },
     "metadata": {},
     "output_type": "display_data"
    },
    {
     "data": {
      "application/vnd.jupyter.widget-view+json": {
       "model_id": "a7e4dc6033224cf79eeea1e55f3124b4",
       "version_major": 2,
       "version_minor": 0
      },
      "text/plain": [
       "README.md: 0.00B [00:00, ?B/s]"
      ]
     },
     "metadata": {},
     "output_type": "display_data"
    },
    {
     "name": "stderr",
     "output_type": "stream",
     "text": [
      "\u001b[32mCreating model: ('PP-OCRv5_server_det', None)\u001b[0m\n",
      "\u001b[32mUsing official model (PP-OCRv5_server_det), the model files will be automatically downloaded and saved in C:\\Users\\danis\\.paddlex\\official_models.\u001b[0m\n"
     ]
    },
    {
     "data": {
      "application/vnd.jupyter.widget-view+json": {
       "model_id": "1b59502b978a4fc5bfb07261d10b1f93",
       "version_major": 2,
       "version_minor": 0
      },
      "text/plain": [
       "Fetching 6 files:   0%|          | 0/6 [00:00<?, ?it/s]"
      ]
     },
     "metadata": {},
     "output_type": "display_data"
    },
    {
     "data": {
      "application/vnd.jupyter.widget-view+json": {
       "model_id": "d6c473a1405b453aa0c5b19db2c087c0",
       "version_major": 2,
       "version_minor": 0
      },
      "text/plain": [
       "README.md: 0.00B [00:00, ?B/s]"
      ]
     },
     "metadata": {},
     "output_type": "display_data"
    },
    {
     "data": {
      "application/vnd.jupyter.widget-view+json": {
       "model_id": "2d4e11f451964a338e11084b93cbbb7b",
       "version_major": 2,
       "version_minor": 0
      },
      "text/plain": [
       "inference.json: 0.00B [00:00, ?B/s]"
      ]
     },
     "metadata": {},
     "output_type": "display_data"
    },
    {
     "data": {
      "application/vnd.jupyter.widget-view+json": {
       "model_id": "e3b92e2a1675484a9689bf30aa34e4c7",
       "version_major": 2,
       "version_minor": 0
      },
      "text/plain": [
       "config.json: 0.00B [00:00, ?B/s]"
      ]
     },
     "metadata": {},
     "output_type": "display_data"
    },
    {
     "data": {
      "application/vnd.jupyter.widget-view+json": {
       "model_id": "e99a115721f84ccfa48b77e3149d2f2d",
       "version_major": 2,
       "version_minor": 0
      },
      "text/plain": [
       ".gitattributes: 0.00B [00:00, ?B/s]"
      ]
     },
     "metadata": {},
     "output_type": "display_data"
    },
    {
     "data": {
      "application/vnd.jupyter.widget-view+json": {
       "model_id": "b246913a43b8421ea68d724fc055d5e0",
       "version_major": 2,
       "version_minor": 0
      },
      "text/plain": [
       "inference.yml:   0%|          | 0.00/903 [00:00<?, ?B/s]"
      ]
     },
     "metadata": {},
     "output_type": "display_data"
    },
    {
     "data": {
      "application/vnd.jupyter.widget-view+json": {
       "model_id": "274aa7546f5f46dd9ca749c9cca603f3",
       "version_major": 2,
       "version_minor": 0
      },
      "text/plain": [
       "inference.pdiparams:   0%|          | 0.00/87.9M [00:00<?, ?B/s]"
      ]
     },
     "metadata": {},
     "output_type": "display_data"
    },
    {
     "name": "stderr",
     "output_type": "stream",
     "text": [
      "\u001b[32mCreating model: ('PP-OCRv5_server_rec', None)\u001b[0m\n",
      "\u001b[32mUsing official model (PP-OCRv5_server_rec), the model files will be automatically downloaded and saved in C:\\Users\\danis\\.paddlex\\official_models.\u001b[0m\n"
     ]
    },
    {
     "data": {
      "application/vnd.jupyter.widget-view+json": {
       "model_id": "56ea5acc352d4b0aad26f2a4ecd44e41",
       "version_major": 2,
       "version_minor": 0
      },
      "text/plain": [
       "Fetching 6 files:   0%|          | 0/6 [00:00<?, ?it/s]"
      ]
     },
     "metadata": {},
     "output_type": "display_data"
    },
    {
     "data": {
      "application/vnd.jupyter.widget-view+json": {
       "model_id": "5f5e84f9dbec4d63b87f75ef37fba2f4",
       "version_major": 2,
       "version_minor": 0
      },
      "text/plain": [
       "inference.json: 0.00B [00:00, ?B/s]"
      ]
     },
     "metadata": {},
     "output_type": "display_data"
    },
    {
     "data": {
      "application/vnd.jupyter.widget-view+json": {
       "model_id": "3202ea3621ba47cda579dcf5e2055047",
       "version_major": 2,
       "version_minor": 0
      },
      "text/plain": [
       "inference.yml: 0.00B [00:00, ?B/s]"
      ]
     },
     "metadata": {},
     "output_type": "display_data"
    },
    {
     "data": {
      "application/vnd.jupyter.widget-view+json": {
       "model_id": "b8d94df78736440597481ad518612612",
       "version_major": 2,
       "version_minor": 0
      },
      "text/plain": [
       ".gitattributes: 0.00B [00:00, ?B/s]"
      ]
     },
     "metadata": {},
     "output_type": "display_data"
    },
    {
     "data": {
      "application/vnd.jupyter.widget-view+json": {
       "model_id": "5837bab4edf645b3adf1b090ebddd59d",
       "version_major": 2,
       "version_minor": 0
      },
      "text/plain": [
       "README.md: 0.00B [00:00, ?B/s]"
      ]
     },
     "metadata": {},
     "output_type": "display_data"
    },
    {
     "data": {
      "application/vnd.jupyter.widget-view+json": {
       "model_id": "05ede7926af444848b6f3199f7cac7e9",
       "version_major": 2,
       "version_minor": 0
      },
      "text/plain": [
       "config.json: 0.00B [00:00, ?B/s]"
      ]
     },
     "metadata": {},
     "output_type": "display_data"
    },
    {
     "data": {
      "application/vnd.jupyter.widget-view+json": {
       "model_id": "ac5ddef2141c4688b64b931f24377a54",
       "version_major": 2,
       "version_minor": 0
      },
      "text/plain": [
       "inference.pdiparams:   0%|          | 0.00/84.4M [00:00<?, ?B/s]"
      ]
     },
     "metadata": {},
     "output_type": "display_data"
    },
    {
     "name": "stderr",
     "output_type": "stream",
     "text": [
      "C:\\Users\\danis\\AppData\\Local\\Temp\\ipykernel_25312\\1813440581.py:7: DeprecationWarning: Please use `predict` instead.\n",
      "  results = ocr.ocr(image_path, cls=True)\n"
     ]
    },
    {
     "ename": "TypeError",
     "evalue": "PaddleOCR.predict() got an unexpected keyword argument 'cls'",
     "output_type": "error",
     "traceback": [
      "\u001b[1;31m---------------------------------------------------------------------------\u001b[0m",
      "\u001b[1;31mTypeError\u001b[0m                                 Traceback (most recent call last)",
      "Cell \u001b[1;32mIn[11], line 18\u001b[0m\n\u001b[0;32m     15\u001b[0m                 lines\u001b[38;5;241m.\u001b[39mappend(text)\n\u001b[0;32m     17\u001b[0m     \u001b[38;5;28;01mreturn\u001b[39;00m lines\n\u001b[1;32m---> 18\u001b[0m text \u001b[38;5;241m=\u001b[39m \u001b[43mextract_text_paddle\u001b[49m\u001b[43m(\u001b[49m\u001b[38;5;124;43mr\u001b[39;49m\u001b[38;5;124;43m'\u001b[39;49m\u001b[38;5;124;43mdoc\u001b[39;49m\u001b[38;5;124;43m\\\u001b[39;49m\u001b[38;5;124;43mDanishResume.jpg\u001b[39;49m\u001b[38;5;124;43m'\u001b[39;49m\u001b[43m)\u001b[49m\n\u001b[0;32m     19\u001b[0m \u001b[38;5;28mprint\u001b[39m(text)\n",
      "Cell \u001b[1;32mIn[11], line 7\u001b[0m, in \u001b[0;36mextract_text_paddle\u001b[1;34m(image_path)\u001b[0m\n\u001b[0;32m      6\u001b[0m \u001b[38;5;28;01mdef\u001b[39;00m \u001b[38;5;21mextract_text_paddle\u001b[39m(image_path):\n\u001b[1;32m----> 7\u001b[0m     results \u001b[38;5;241m=\u001b[39m \u001b[43mocr\u001b[49m\u001b[38;5;241;43m.\u001b[39;49m\u001b[43mocr\u001b[49m\u001b[43m(\u001b[49m\u001b[43mimage_path\u001b[49m\u001b[43m,\u001b[49m\u001b[43m \u001b[49m\u001b[38;5;28;43mcls\u001b[39;49m\u001b[38;5;241;43m=\u001b[39;49m\u001b[38;5;28;43;01mTrue\u001b[39;49;00m\u001b[43m)\u001b[49m\n\u001b[0;32m      8\u001b[0m     lines \u001b[38;5;241m=\u001b[39m []\n\u001b[0;32m     10\u001b[0m     \u001b[38;5;28;01mfor\u001b[39;00m line_info \u001b[38;5;129;01min\u001b[39;00m results:\n",
      "File \u001b[1;32mc:\\Users\\danis\\anaconda3\\Lib\\site-packages\\typing_extensions.py:2636\u001b[0m, in \u001b[0;36mwrapper\u001b[1;34m(*args, **kwargs)\u001b[0m\n\u001b[0;32m   2634\u001b[0m if hasattr(typing, \"reveal_type\"):  # 3.11+\n\u001b[0;32m   2635\u001b[0m     reveal_type = typing.reveal_type\n\u001b[1;32m-> 2636\u001b[0m else:  # <=3.10\n\u001b[0;32m   2637\u001b[0m     def reveal_type(obj: T, /) -> T:\n\u001b[0;32m   2638\u001b[0m         \"\"\"Reveal the inferred type of a variable.\n\u001b[0;32m   2639\u001b[0m \n\u001b[0;32m   2640\u001b[0m         When a static type checker encounters a call to ``reveal_type()``,\n\u001b[1;32m   (...)\u001b[0m\n\u001b[0;32m   2651\u001b[0m \n\u001b[0;32m   2652\u001b[0m         \"\"\"\n",
      "File \u001b[1;32mc:\\Users\\danis\\anaconda3\\Lib\\site-packages\\paddleocr\\_pipelines\\ocr.py:225\u001b[0m, in \u001b[0;36mPaddleOCR.ocr\u001b[1;34m(self, img, **kwargs)\u001b[0m\n\u001b[0;32m    223\u001b[0m \u001b[38;5;129m@deprecated\u001b[39m(\u001b[38;5;124m\"\u001b[39m\u001b[38;5;124mPlease use `predict` instead.\u001b[39m\u001b[38;5;124m\"\u001b[39m)\n\u001b[0;32m    224\u001b[0m \u001b[38;5;28;01mdef\u001b[39;00m \u001b[38;5;21mocr\u001b[39m(\u001b[38;5;28mself\u001b[39m, img, \u001b[38;5;241m*\u001b[39m\u001b[38;5;241m*\u001b[39mkwargs):\n\u001b[1;32m--> 225\u001b[0m     \u001b[38;5;28;01mreturn\u001b[39;00m \u001b[38;5;28;43mself\u001b[39;49m\u001b[38;5;241;43m.\u001b[39;49m\u001b[43mpredict\u001b[49m\u001b[43m(\u001b[49m\u001b[43mimg\u001b[49m\u001b[43m,\u001b[49m\u001b[43m \u001b[49m\u001b[38;5;241;43m*\u001b[39;49m\u001b[38;5;241;43m*\u001b[39;49m\u001b[43mkwargs\u001b[49m\u001b[43m)\u001b[49m\n",
      "\u001b[1;31mTypeError\u001b[0m: PaddleOCR.predict() got an unexpected keyword argument 'cls'"
     ]
    }
   ],
   "source": [
    "from paddleocr import PaddleOCR\n",
    "\n",
    "# Initialize OCR model\n",
    "ocr = PaddleOCR(use_angle_cls=True, lang='en')  # Angle correction ON\n",
    "\n",
    "def extract_text_paddle(image_path):\n",
    "    results = ocr.ocr(image_path, cls=True)\n",
    "    lines = []\n",
    "\n",
    "    for line_info in results:\n",
    "        for box in line_info:\n",
    "            text = box[1][0]  # box = [coordinates, [text, confidence]]\n",
    "            conf = box[1][1]\n",
    "            if conf > 0.5:\n",
    "                lines.append(text)\n",
    "\n",
    "    return lines\n",
    "text = extract_text_paddle(r'doc\\DanishResume.jpg')\n",
    "print(text)"
   ]
  },
  {
   "cell_type": "code",
   "execution_count": null,
   "id": "447daee0",
   "metadata": {},
   "outputs": [],
   "source": [
    "!pip install \"paddleocr[all]\"\n",
    "!pip install numpy"
   ]
  },
  {
   "cell_type": "code",
   "execution_count": 2,
   "id": "7ddc9a4a",
   "metadata": {},
   "outputs": [
    {
     "name": "stdout",
     "output_type": "stream",
     "text": [
      "Requirement already satisfied: easyocr in c:\\users\\danis\\appdata\\roaming\\python\\python312\\site-packages (1.7.1)\n",
      "Requirement already satisfied: torch in c:\\users\\danis\\appdata\\roaming\\python\\python312\\site-packages (from easyocr) (2.4.1)\n",
      "Requirement already satisfied: torchvision>=0.5 in c:\\users\\danis\\appdata\\roaming\\python\\python312\\site-packages (from easyocr) (0.19.1)\n",
      "Requirement already satisfied: opencv-python-headless in c:\\users\\danis\\appdata\\roaming\\python\\python312\\site-packages (from easyocr) (4.10.0.84)\n",
      "Requirement already satisfied: scipy in c:\\users\\danis\\anaconda3\\lib\\site-packages (from easyocr) (1.13.1)\n",
      "Requirement already satisfied: numpy in c:\\users\\danis\\anaconda3\\lib\\site-packages (from easyocr) (2.3.1)\n",
      "Requirement already satisfied: Pillow in c:\\users\\danis\\anaconda3\\lib\\site-packages (from easyocr) (10.3.0)\n",
      "Requirement already satisfied: scikit-image in c:\\users\\danis\\appdata\\roaming\\python\\python312\\site-packages (from easyocr) (0.24.0)\n",
      "Requirement already satisfied: python-bidi in c:\\users\\danis\\anaconda3\\lib\\site-packages (from easyocr) (0.6.6)\n",
      "Requirement already satisfied: PyYAML in c:\\users\\danis\\anaconda3\\lib\\site-packages (from easyocr) (6.0.2)\n",
      "Requirement already satisfied: Shapely in c:\\users\\danis\\anaconda3\\lib\\site-packages (from easyocr) (2.1.1)\n",
      "Requirement already satisfied: pyclipper in c:\\users\\danis\\anaconda3\\lib\\site-packages (from easyocr) (1.3.0.post6)\n",
      "Requirement already satisfied: ninja in c:\\users\\danis\\anaconda3\\lib\\site-packages (from easyocr) (1.11.1.4)\n",
      "Requirement already satisfied: filelock in c:\\users\\danis\\appdata\\roaming\\python\\python312\\site-packages (from torch->easyocr) (3.16.0)\n",
      "Requirement already satisfied: typing-extensions>=4.8.0 in c:\\users\\danis\\anaconda3\\lib\\site-packages (from torch->easyocr) (4.14.0)\n",
      "Requirement already satisfied: sympy in c:\\users\\danis\\anaconda3\\lib\\site-packages (from torch->easyocr) (1.12)\n",
      "Requirement already satisfied: networkx in c:\\users\\danis\\appdata\\roaming\\python\\python312\\site-packages (from torch->easyocr) (3.3)\n",
      "Requirement already satisfied: jinja2 in c:\\users\\danis\\appdata\\roaming\\python\\python312\\site-packages (from torch->easyocr) (3.1.4)\n",
      "Requirement already satisfied: fsspec in c:\\users\\danis\\appdata\\roaming\\python\\python312\\site-packages (from torch->easyocr) (2024.9.0)\n",
      "Requirement already satisfied: setuptools in c:\\users\\danis\\anaconda3\\lib\\site-packages (from torch->easyocr) (80.9.0)\n",
      "Requirement already satisfied: imageio>=2.33 in c:\\users\\danis\\appdata\\roaming\\python\\python312\\site-packages (from scikit-image->easyocr) (2.35.1)\n",
      "Requirement already satisfied: tifffile>=2022.8.12 in c:\\users\\danis\\anaconda3\\lib\\site-packages (from scikit-image->easyocr) (2023.4.12)\n",
      "Requirement already satisfied: packaging>=21 in c:\\users\\danis\\anaconda3\\lib\\site-packages (from scikit-image->easyocr) (23.2)\n",
      "Requirement already satisfied: lazy-loader>=0.4 in c:\\users\\danis\\appdata\\roaming\\python\\python312\\site-packages (from scikit-image->easyocr) (0.4)\n",
      "Collecting numpy (from easyocr)\n",
      "  Downloading numpy-2.2.6-cp312-cp312-win_amd64.whl.metadata (60 kB)\n",
      "     ---------------------------------------- 0.0/60.8 kB ? eta -:--:--\n",
      "     ------ --------------------------------- 10.2/60.8 kB ? eta -:--:--\n",
      "     ------ --------------------------------- 10.2/60.8 kB ? eta -:--:--\n",
      "     ------ --------------------------------- 10.2/60.8 kB ? eta -:--:--\n",
      "     ------------------------------- ------ 51.2/60.8 kB 290.5 kB/s eta 0:00:01\n",
      "     ------------------------------- ------ 51.2/60.8 kB 290.5 kB/s eta 0:00:01\n",
      "     ------------------------------- ------ 51.2/60.8 kB 290.5 kB/s eta 0:00:01\n",
      "     -------------------------------------- 60.8/60.8 kB 202.4 kB/s eta 0:00:00\n",
      "Requirement already satisfied: MarkupSafe>=2.0 in c:\\users\\danis\\appdata\\roaming\\python\\python312\\site-packages (from jinja2->torch->easyocr) (2.1.5)\n",
      "Requirement already satisfied: mpmath>=0.19 in c:\\users\\danis\\anaconda3\\lib\\site-packages (from sympy->torch->easyocr) (1.3.0)\n",
      "Downloading numpy-2.2.6-cp312-cp312-win_amd64.whl (12.6 MB)\n",
      "   ---------------------------------------- 0.0/12.6 MB ? eta -:--:--\n",
      "   ---------------------------------------- 0.1/12.6 MB 3.6 MB/s eta 0:00:04\n",
      "   - -------------------------------------- 0.3/12.6 MB 4.1 MB/s eta 0:00:04\n",
      "   -- ------------------------------------- 0.6/12.6 MB 5.0 MB/s eta 0:00:03\n",
      "   -- ------------------------------------- 0.9/12.6 MB 5.4 MB/s eta 0:00:03\n",
      "   --- ------------------------------------ 1.2/12.6 MB 5.6 MB/s eta 0:00:03\n",
      "   ---- ----------------------------------- 1.5/12.6 MB 5.7 MB/s eta 0:00:02\n",
      "   ----- ---------------------------------- 1.8/12.6 MB 5.8 MB/s eta 0:00:02\n",
      "   ------ --------------------------------- 2.2/12.6 MB 6.1 MB/s eta 0:00:02\n",
      "   ------- -------------------------------- 2.4/12.6 MB 6.0 MB/s eta 0:00:02\n",
      "   --------- ------------------------------ 2.8/12.6 MB 6.3 MB/s eta 0:00:02\n",
      "   ---------- ----------------------------- 3.2/12.6 MB 6.4 MB/s eta 0:00:02\n",
      "   ----------- ---------------------------- 3.6/12.6 MB 6.6 MB/s eta 0:00:02\n",
      "   ------------ --------------------------- 3.9/12.6 MB 6.7 MB/s eta 0:00:02\n",
      "   ------------ --------------------------- 3.9/12.6 MB 6.7 MB/s eta 0:00:02\n",
      "   ------------ --------------------------- 3.9/12.6 MB 6.7 MB/s eta 0:00:02\n",
      "   ------------ --------------------------- 4.1/12.6 MB 5.6 MB/s eta 0:00:02\n",
      "   ------------- -------------------------- 4.4/12.6 MB 5.7 MB/s eta 0:00:02\n",
      "   --------------- ------------------------ 4.7/12.6 MB 5.7 MB/s eta 0:00:02\n",
      "   ---------------- ----------------------- 5.1/12.6 MB 5.8 MB/s eta 0:00:02\n",
      "   ----------------- ---------------------- 5.4/12.6 MB 5.9 MB/s eta 0:00:02\n",
      "   ------------------ --------------------- 5.7/12.6 MB 5.9 MB/s eta 0:00:02\n",
      "   ------------------- -------------------- 6.1/12.6 MB 6.0 MB/s eta 0:00:02\n",
      "   ------------------- -------------------- 6.2/12.6 MB 6.0 MB/s eta 0:00:02\n",
      "   --------------------- ------------------ 6.8/12.6 MB 6.2 MB/s eta 0:00:01\n",
      "   ---------------------- ----------------- 7.2/12.6 MB 6.3 MB/s eta 0:00:01\n",
      "   ----------------------- ---------------- 7.6/12.6 MB 6.4 MB/s eta 0:00:01\n",
      "   ------------------------ --------------- 7.9/12.6 MB 6.4 MB/s eta 0:00:01\n",
      "   -------------------------- ------------- 8.3/12.6 MB 6.5 MB/s eta 0:00:01\n",
      "   --------------------------- ------------ 8.7/12.6 MB 6.5 MB/s eta 0:00:01\n",
      "   ---------------------------- ----------- 9.1/12.6 MB 6.6 MB/s eta 0:00:01\n",
      "   ------------------------------ --------- 9.5/12.6 MB 6.6 MB/s eta 0:00:01\n",
      "   ------------------------------- -------- 9.8/12.6 MB 6.7 MB/s eta 0:00:01\n",
      "   -------------------------------- ------- 10.2/12.6 MB 6.7 MB/s eta 0:00:01\n",
      "   --------------------------------- ------ 10.6/12.6 MB 7.0 MB/s eta 0:00:01\n",
      "   ---------------------------------- ----- 11.0/12.6 MB 7.0 MB/s eta 0:00:01\n",
      "   ------------------------------------ --- 11.4/12.6 MB 7.1 MB/s eta 0:00:01\n",
      "   ------------------------------------- -- 11.8/12.6 MB 7.2 MB/s eta 0:00:01\n",
      "   -------------------------------------- - 12.2/12.6 MB 7.2 MB/s eta 0:00:01\n",
      "   ---------------------------------------  12.5/12.6 MB 7.4 MB/s eta 0:00:01\n",
      "   ---------------------------------------  12.6/12.6 MB 7.3 MB/s eta 0:00:01\n",
      "   ---------------------------------------  12.6/12.6 MB 7.3 MB/s eta 0:00:01\n",
      "   ---------------------------------------- 12.6/12.6 MB 6.9 MB/s eta 0:00:00\n",
      "Installing collected packages: numpy\n",
      "  Attempting uninstall: numpy\n",
      "    Found existing installation: numpy 2.3.1\n",
      "    Uninstalling numpy-2.3.1:\n",
      "      Successfully uninstalled numpy-2.3.1\n",
      "Successfully installed numpy-2.2.6\n"
     ]
    },
    {
     "name": "stderr",
     "output_type": "stream",
     "text": [
      "  WARNING: Failed to remove contents in a temporary directory 'C:\\Users\\danis\\anaconda3\\Lib\\site-packages\\~-mpy.libs'.\n",
      "  You can safely remove it manually.\n",
      "  WARNING: Failed to remove contents in a temporary directory 'C:\\Users\\danis\\anaconda3\\Lib\\site-packages\\~~mpy'.\n",
      "  You can safely remove it manually.\n",
      "ERROR: pip's dependency resolver does not currently take into account all the packages that are installed. This behaviour is the source of the following dependency conflicts.\n",
      "contourpy 1.2.0 requires numpy<2.0,>=1.20, but you have numpy 2.2.6 which is incompatible.\n",
      "numba 0.59.1 requires numpy<1.27,>=1.22, but you have numpy 2.2.6 which is incompatible.\n",
      "pywavelets 1.5.0 requires numpy<2.0,>=1.22.4, but you have numpy 2.2.6 which is incompatible.\n",
      "spacy 3.8.7 requires thinc<8.4.0,>=8.3.4, but you have thinc 9.1.1 which is incompatible.\n",
      "streamlit 1.32.0 requires numpy<2,>=1.19.3, but you have numpy 2.2.6 which is incompatible.\n"
     ]
    }
   ],
   "source": [
    "!pip install easyocr"
   ]
  },
  {
   "cell_type": "code",
   "execution_count": 3,
   "id": "d0c450eb",
   "metadata": {},
   "outputs": [
    {
     "name": "stderr",
     "output_type": "stream",
     "text": [
      "\n",
      "A module that was compiled using NumPy 1.x cannot be run in\n",
      "NumPy 2.3.1 as it may crash. To support both 1.x and 2.x\n",
      "versions of NumPy, modules must be compiled with NumPy 2.0.\n",
      "Some module may need to rebuild instead e.g. with 'pybind11>=2.12'.\n",
      "\n",
      "If you are a user of the module, the easiest solution will be to\n",
      "downgrade to 'numpy<2' or try to upgrade the affected module.\n",
      "We expect that some modules will need time to support NumPy 2.\n",
      "\n",
      "Traceback (most recent call last):  File \"<frozen runpy>\", line 198, in _run_module_as_main\n",
      "  File \"<frozen runpy>\", line 88, in _run_code\n",
      "  File \"C:\\Users\\danis\\AppData\\Roaming\\Python\\Python312\\site-packages\\ipykernel_launcher.py\", line 18, in <module>\n",
      "    app.launch_new_instance()\n",
      "  File \"C:\\Users\\danis\\AppData\\Roaming\\Python\\Python312\\site-packages\\traitlets\\config\\application.py\", line 1075, in launch_instance\n",
      "    app.start()\n",
      "  File \"C:\\Users\\danis\\AppData\\Roaming\\Python\\Python312\\site-packages\\ipykernel\\kernelapp.py\", line 739, in start\n",
      "    self.io_loop.start()\n",
      "  File \"C:\\Users\\danis\\AppData\\Roaming\\Python\\Python312\\site-packages\\tornado\\platform\\asyncio.py\", line 205, in start\n",
      "    self.asyncio_loop.run_forever()\n",
      "  File \"c:\\Users\\danis\\anaconda3\\Lib\\asyncio\\base_events.py\", line 641, in run_forever\n",
      "    self._run_once()\n",
      "  File \"c:\\Users\\danis\\anaconda3\\Lib\\asyncio\\base_events.py\", line 1987, in _run_once\n",
      "    handle._run()\n",
      "  File \"c:\\Users\\danis\\anaconda3\\Lib\\asyncio\\events.py\", line 88, in _run\n",
      "    self._context.run(self._callback, *self._args)\n",
      "  File \"C:\\Users\\danis\\AppData\\Roaming\\Python\\Python312\\site-packages\\ipykernel\\kernelbase.py\", line 545, in dispatch_queue\n",
      "    await self.process_one()\n",
      "  File \"C:\\Users\\danis\\AppData\\Roaming\\Python\\Python312\\site-packages\\ipykernel\\kernelbase.py\", line 534, in process_one\n",
      "    await dispatch(*args)\n",
      "  File \"C:\\Users\\danis\\AppData\\Roaming\\Python\\Python312\\site-packages\\ipykernel\\kernelbase.py\", line 437, in dispatch_shell\n",
      "    await result\n",
      "  File \"C:\\Users\\danis\\AppData\\Roaming\\Python\\Python312\\site-packages\\ipykernel\\ipkernel.py\", line 362, in execute_request\n",
      "    await super().execute_request(stream, ident, parent)\n",
      "  File \"C:\\Users\\danis\\AppData\\Roaming\\Python\\Python312\\site-packages\\ipykernel\\kernelbase.py\", line 778, in execute_request\n",
      "    reply_content = await reply_content\n",
      "  File \"C:\\Users\\danis\\AppData\\Roaming\\Python\\Python312\\site-packages\\ipykernel\\ipkernel.py\", line 449, in do_execute\n",
      "    res = shell.run_cell(\n",
      "  File \"C:\\Users\\danis\\AppData\\Roaming\\Python\\Python312\\site-packages\\ipykernel\\zmqshell.py\", line 549, in run_cell\n",
      "    return super().run_cell(*args, **kwargs)\n",
      "  File \"C:\\Users\\danis\\AppData\\Roaming\\Python\\Python312\\site-packages\\IPython\\core\\interactiveshell.py\", line 3075, in run_cell\n",
      "    result = self._run_cell(\n",
      "  File \"C:\\Users\\danis\\AppData\\Roaming\\Python\\Python312\\site-packages\\IPython\\core\\interactiveshell.py\", line 3130, in _run_cell\n",
      "    result = runner(coro)\n",
      "  File \"C:\\Users\\danis\\AppData\\Roaming\\Python\\Python312\\site-packages\\IPython\\core\\async_helpers.py\", line 128, in _pseudo_sync_runner\n",
      "    coro.send(None)\n",
      "  File \"C:\\Users\\danis\\AppData\\Roaming\\Python\\Python312\\site-packages\\IPython\\core\\interactiveshell.py\", line 3334, in run_cell_async\n",
      "    has_raised = await self.run_ast_nodes(code_ast.body, cell_name,\n",
      "  File \"C:\\Users\\danis\\AppData\\Roaming\\Python\\Python312\\site-packages\\IPython\\core\\interactiveshell.py\", line 3517, in run_ast_nodes\n",
      "    if await self.run_code(code, result, async_=asy):\n",
      "  File \"C:\\Users\\danis\\AppData\\Roaming\\Python\\Python312\\site-packages\\IPython\\core\\interactiveshell.py\", line 3577, in run_code\n",
      "    exec(code_obj, self.user_global_ns, self.user_ns)\n",
      "  File \"C:\\Users\\danis\\AppData\\Local\\Temp\\ipykernel_3332\\3816123013.py\", line 1, in <module>\n",
      "    import easyocr\n",
      "  File \"C:\\Users\\danis\\AppData\\Roaming\\Python\\Python312\\site-packages\\easyocr\\__init__.py\", line 1, in <module>\n",
      "    from .easyocr import Reader\n",
      "  File \"C:\\Users\\danis\\AppData\\Roaming\\Python\\Python312\\site-packages\\easyocr\\easyocr.py\", line 3, in <module>\n",
      "    from .recognition import get_recognizer, get_text\n",
      "  File \"C:\\Users\\danis\\AppData\\Roaming\\Python\\Python312\\site-packages\\easyocr\\recognition.py\", line 10, in <module>\n",
      "    from .utils import CTCLabelConverter\n",
      "  File \"C:\\Users\\danis\\AppData\\Roaming\\Python\\Python312\\site-packages\\easyocr\\utils.py\", line 9, in <module>\n",
      "    from scipy import ndimage\n",
      "  File \"c:\\Users\\danis\\anaconda3\\Lib\\site-packages\\scipy\\__init__.py\", line 134, in __getattr__\n",
      "    return _importlib.import_module(f'scipy.{name}')\n",
      "  File \"c:\\Users\\danis\\anaconda3\\Lib\\importlib\\__init__.py\", line 90, in import_module\n",
      "    return _bootstrap._gcd_import(name[level:], package, level)\n",
      "  File \"c:\\Users\\danis\\anaconda3\\Lib\\site-packages\\scipy\\ndimage\\__init__.py\", line 152, in <module>\n",
      "    from ._filters import *\n",
      "  File \"c:\\Users\\danis\\anaconda3\\Lib\\site-packages\\scipy\\ndimage\\_filters.py\", line 39, in <module>\n",
      "    from . import _nd_image\n"
     ]
    },
    {
     "ename": "ImportError",
     "evalue": "\nA module that was compiled using NumPy 1.x cannot be run in\nNumPy 2.3.1 as it may crash. To support both 1.x and 2.x\nversions of NumPy, modules must be compiled with NumPy 2.0.\nSome module may need to rebuild instead e.g. with 'pybind11>=2.12'.\n\nIf you are a user of the module, the easiest solution will be to\ndowngrade to 'numpy<2' or try to upgrade the affected module.\nWe expect that some modules will need time to support NumPy 2.\n\n",
     "output_type": "error",
     "traceback": [
      "\u001b[1;31m---------------------------------------------------------------------------\u001b[0m",
      "\u001b[1;31mImportError\u001b[0m                               Traceback (most recent call last)",
      "File \u001b[1;32mc:\\Users\\danis\\anaconda3\\Lib\\site-packages\\numpy\\core\\_multiarray_umath.py:46\u001b[0m, in \u001b[0;36m__getattr__\u001b[1;34m(attr_name)\u001b[0m\n\u001b[0;32m     41\u001b[0m     \u001b[38;5;66;03m# Also print the message (with traceback).  This is because old versions\u001b[39;00m\n\u001b[0;32m     42\u001b[0m     \u001b[38;5;66;03m# of NumPy unfortunately set up the import to replace (and hide) the\u001b[39;00m\n\u001b[0;32m     43\u001b[0m     \u001b[38;5;66;03m# error.  The traceback shouldn't be needed, but e.g. pytest plugins\u001b[39;00m\n\u001b[0;32m     44\u001b[0m     \u001b[38;5;66;03m# seem to swallow it and we should be failing anyway...\u001b[39;00m\n\u001b[0;32m     45\u001b[0m     sys\u001b[38;5;241m.\u001b[39mstderr\u001b[38;5;241m.\u001b[39mwrite(msg \u001b[38;5;241m+\u001b[39m tb_msg)\n\u001b[1;32m---> 46\u001b[0m     \u001b[38;5;28;01mraise\u001b[39;00m \u001b[38;5;167;01mImportError\u001b[39;00m(msg)\n\u001b[0;32m     48\u001b[0m ret \u001b[38;5;241m=\u001b[39m \u001b[38;5;28mgetattr\u001b[39m(_multiarray_umath, attr_name, \u001b[38;5;28;01mNone\u001b[39;00m)\n\u001b[0;32m     49\u001b[0m \u001b[38;5;28;01mif\u001b[39;00m ret \u001b[38;5;129;01mis\u001b[39;00m \u001b[38;5;28;01mNone\u001b[39;00m:\n",
      "\u001b[1;31mImportError\u001b[0m: \nA module that was compiled using NumPy 1.x cannot be run in\nNumPy 2.3.1 as it may crash. To support both 1.x and 2.x\nversions of NumPy, modules must be compiled with NumPy 2.0.\nSome module may need to rebuild instead e.g. with 'pybind11>=2.12'.\n\nIf you are a user of the module, the easiest solution will be to\ndowngrade to 'numpy<2' or try to upgrade the affected module.\nWe expect that some modules will need time to support NumPy 2.\n\n"
     ]
    },
    {
     "ename": "ImportError",
     "evalue": "numpy.core.multiarray failed to import",
     "output_type": "error",
     "traceback": [
      "\u001b[1;31m---------------------------------------------------------------------------\u001b[0m",
      "\u001b[1;31mImportError\u001b[0m                               Traceback (most recent call last)",
      "Cell \u001b[1;32mIn[3], line 1\u001b[0m\n\u001b[1;32m----> 1\u001b[0m \u001b[38;5;28;01mimport\u001b[39;00m \u001b[38;5;21;01measyocr\u001b[39;00m\n\u001b[0;32m      2\u001b[0m reader \u001b[38;5;241m=\u001b[39m easyocr\u001b[38;5;241m.\u001b[39mReader([\u001b[38;5;124m'\u001b[39m\u001b[38;5;124men\u001b[39m\u001b[38;5;124m'\u001b[39m])\n\u001b[0;32m      3\u001b[0m results \u001b[38;5;241m=\u001b[39m reader\u001b[38;5;241m.\u001b[39mreadtext(\u001b[38;5;124mr\u001b[39m\u001b[38;5;124m\"\u001b[39m\u001b[38;5;124mdoc\u001b[39m\u001b[38;5;124m\\\u001b[39m\u001b[38;5;124mDanishResume.jpg\u001b[39m\u001b[38;5;124m\"\u001b[39m, detail\u001b[38;5;241m=\u001b[39m\u001b[38;5;241m0\u001b[39m)\n",
      "File \u001b[1;32m~\\AppData\\Roaming\\Python\\Python312\\site-packages\\easyocr\\__init__.py:1\u001b[0m\n\u001b[1;32m----> 1\u001b[0m \u001b[38;5;28;01mfrom\u001b[39;00m \u001b[38;5;21;01m.\u001b[39;00m\u001b[38;5;21;01measyocr\u001b[39;00m \u001b[38;5;28;01mimport\u001b[39;00m Reader\n\u001b[0;32m      3\u001b[0m __version__ \u001b[38;5;241m=\u001b[39m \u001b[38;5;124m'\u001b[39m\u001b[38;5;124m1.7.1\u001b[39m\u001b[38;5;124m'\u001b[39m\n",
      "File \u001b[1;32m~\\AppData\\Roaming\\Python\\Python312\\site-packages\\easyocr\\easyocr.py:3\u001b[0m\n\u001b[0;32m      1\u001b[0m \u001b[38;5;66;03m# -*- coding: utf-8 -*-\u001b[39;00m\n\u001b[1;32m----> 3\u001b[0m \u001b[38;5;28;01mfrom\u001b[39;00m \u001b[38;5;21;01m.\u001b[39;00m\u001b[38;5;21;01mrecognition\u001b[39;00m \u001b[38;5;28;01mimport\u001b[39;00m get_recognizer, get_text\n\u001b[0;32m      4\u001b[0m \u001b[38;5;28;01mfrom\u001b[39;00m \u001b[38;5;21;01m.\u001b[39;00m\u001b[38;5;21;01mutils\u001b[39;00m \u001b[38;5;28;01mimport\u001b[39;00m group_text_box, get_image_list, calculate_md5, get_paragraph,\\\n\u001b[0;32m      5\u001b[0m                    download_and_unzip, printProgressBar, diff, reformat_input,\\\n\u001b[0;32m      6\u001b[0m                    make_rotated_img_list, set_result_with_confidence,\\\n\u001b[0;32m      7\u001b[0m                    reformat_input_batched, merge_to_free\n\u001b[0;32m      8\u001b[0m \u001b[38;5;28;01mfrom\u001b[39;00m \u001b[38;5;21;01m.\u001b[39;00m\u001b[38;5;21;01mconfig\u001b[39;00m \u001b[38;5;28;01mimport\u001b[39;00m \u001b[38;5;241m*\u001b[39m\n",
      "File \u001b[1;32m~\\AppData\\Roaming\\Python\\Python312\\site-packages\\easyocr\\recognition.py:10\u001b[0m\n\u001b[0;32m      8\u001b[0m \u001b[38;5;28;01mfrom\u001b[39;00m \u001b[38;5;21;01mcollections\u001b[39;00m \u001b[38;5;28;01mimport\u001b[39;00m OrderedDict\n\u001b[0;32m      9\u001b[0m \u001b[38;5;28;01mimport\u001b[39;00m \u001b[38;5;21;01mimportlib\u001b[39;00m\n\u001b[1;32m---> 10\u001b[0m \u001b[38;5;28;01mfrom\u001b[39;00m \u001b[38;5;21;01m.\u001b[39;00m\u001b[38;5;21;01mutils\u001b[39;00m \u001b[38;5;28;01mimport\u001b[39;00m CTCLabelConverter\n\u001b[0;32m     11\u001b[0m \u001b[38;5;28;01mimport\u001b[39;00m \u001b[38;5;21;01mmath\u001b[39;00m\n\u001b[0;32m     13\u001b[0m \u001b[38;5;28;01mdef\u001b[39;00m \u001b[38;5;21mcustom_mean\u001b[39m(x):\n",
      "File \u001b[1;32m~\\AppData\\Roaming\\Python\\Python312\\site-packages\\easyocr\\utils.py:9\u001b[0m\n\u001b[0;32m      7\u001b[0m \u001b[38;5;28;01mimport\u001b[39;00m \u001b[38;5;21;01mcv2\u001b[39;00m\n\u001b[0;32m      8\u001b[0m \u001b[38;5;28;01mfrom\u001b[39;00m \u001b[38;5;21;01mPIL\u001b[39;00m \u001b[38;5;28;01mimport\u001b[39;00m Image, JpegImagePlugin\n\u001b[1;32m----> 9\u001b[0m \u001b[38;5;28;01mfrom\u001b[39;00m \u001b[38;5;21;01mscipy\u001b[39;00m \u001b[38;5;28;01mimport\u001b[39;00m ndimage\n\u001b[0;32m     10\u001b[0m \u001b[38;5;28;01mimport\u001b[39;00m \u001b[38;5;21;01mhashlib\u001b[39;00m\n\u001b[0;32m     11\u001b[0m \u001b[38;5;28;01mimport\u001b[39;00m \u001b[38;5;21;01msys\u001b[39;00m\u001b[38;5;241m,\u001b[39m \u001b[38;5;21;01mos\u001b[39;00m\n",
      "File \u001b[1;32mc:\\Users\\danis\\anaconda3\\Lib\\site-packages\\scipy\\__init__.py:134\u001b[0m, in \u001b[0;36m__getattr__\u001b[1;34m(name)\u001b[0m\n\u001b[0;32m    132\u001b[0m \u001b[38;5;28;01mdef\u001b[39;00m \u001b[38;5;21m__getattr__\u001b[39m(name):\n\u001b[0;32m    133\u001b[0m     \u001b[38;5;28;01mif\u001b[39;00m name \u001b[38;5;129;01min\u001b[39;00m submodules:\n\u001b[1;32m--> 134\u001b[0m         \u001b[38;5;28;01mreturn\u001b[39;00m \u001b[43m_importlib\u001b[49m\u001b[38;5;241;43m.\u001b[39;49m\u001b[43mimport_module\u001b[49m\u001b[43m(\u001b[49m\u001b[38;5;124;43mf\u001b[39;49m\u001b[38;5;124;43m'\u001b[39;49m\u001b[38;5;124;43mscipy.\u001b[39;49m\u001b[38;5;132;43;01m{\u001b[39;49;00m\u001b[43mname\u001b[49m\u001b[38;5;132;43;01m}\u001b[39;49;00m\u001b[38;5;124;43m'\u001b[39;49m\u001b[43m)\u001b[49m\n\u001b[0;32m    135\u001b[0m     \u001b[38;5;28;01melse\u001b[39;00m:\n\u001b[0;32m    136\u001b[0m         \u001b[38;5;28;01mtry\u001b[39;00m:\n",
      "File \u001b[1;32mc:\\Users\\danis\\anaconda3\\Lib\\importlib\\__init__.py:90\u001b[0m, in \u001b[0;36mimport_module\u001b[1;34m(name, package)\u001b[0m\n\u001b[0;32m     88\u001b[0m             \u001b[38;5;28;01mbreak\u001b[39;00m\n\u001b[0;32m     89\u001b[0m         level \u001b[38;5;241m+\u001b[39m\u001b[38;5;241m=\u001b[39m \u001b[38;5;241m1\u001b[39m\n\u001b[1;32m---> 90\u001b[0m \u001b[38;5;28;01mreturn\u001b[39;00m \u001b[43m_bootstrap\u001b[49m\u001b[38;5;241;43m.\u001b[39;49m\u001b[43m_gcd_import\u001b[49m\u001b[43m(\u001b[49m\u001b[43mname\u001b[49m\u001b[43m[\u001b[49m\u001b[43mlevel\u001b[49m\u001b[43m:\u001b[49m\u001b[43m]\u001b[49m\u001b[43m,\u001b[49m\u001b[43m \u001b[49m\u001b[43mpackage\u001b[49m\u001b[43m,\u001b[49m\u001b[43m \u001b[49m\u001b[43mlevel\u001b[49m\u001b[43m)\u001b[49m\n",
      "File \u001b[1;32mc:\\Users\\danis\\anaconda3\\Lib\\site-packages\\scipy\\ndimage\\__init__.py:152\u001b[0m\n\u001b[0;32m      1\u001b[0m \u001b[38;5;124;03m\"\"\"\u001b[39;00m\n\u001b[0;32m      2\u001b[0m \u001b[38;5;124;03m=========================================================\u001b[39;00m\n\u001b[0;32m      3\u001b[0m \u001b[38;5;124;03mMultidimensional image processing (:mod:`scipy.ndimage`)\u001b[39;00m\n\u001b[1;32m   (...)\u001b[0m\n\u001b[0;32m    119\u001b[0m \n\u001b[0;32m    120\u001b[0m \u001b[38;5;124;03m\"\"\"\u001b[39;00m\n\u001b[0;32m    122\u001b[0m \u001b[38;5;66;03m# Copyright (C) 2003-2005 Peter J. Verveer\u001b[39;00m\n\u001b[0;32m    123\u001b[0m \u001b[38;5;66;03m#\u001b[39;00m\n\u001b[0;32m    124\u001b[0m \u001b[38;5;66;03m# Redistribution and use in source and binary forms, with or without\u001b[39;00m\n\u001b[1;32m   (...)\u001b[0m\n\u001b[0;32m    149\u001b[0m \u001b[38;5;66;03m# NEGLIGENCE OR OTHERWISE) ARISING IN ANY WAY OUT OF THE USE OF THIS\u001b[39;00m\n\u001b[0;32m    150\u001b[0m \u001b[38;5;66;03m# SOFTWARE, EVEN IF ADVISED OF THE POSSIBILITY OF SUCH DAMAGE.\u001b[39;00m\n\u001b[1;32m--> 152\u001b[0m \u001b[38;5;28;01mfrom\u001b[39;00m \u001b[38;5;21;01m.\u001b[39;00m\u001b[38;5;21;01m_filters\u001b[39;00m \u001b[38;5;28;01mimport\u001b[39;00m \u001b[38;5;241m*\u001b[39m\n\u001b[0;32m    153\u001b[0m \u001b[38;5;28;01mfrom\u001b[39;00m \u001b[38;5;21;01m.\u001b[39;00m\u001b[38;5;21;01m_fourier\u001b[39;00m \u001b[38;5;28;01mimport\u001b[39;00m \u001b[38;5;241m*\u001b[39m\n\u001b[0;32m    154\u001b[0m \u001b[38;5;28;01mfrom\u001b[39;00m \u001b[38;5;21;01m.\u001b[39;00m\u001b[38;5;21;01m_interpolation\u001b[39;00m \u001b[38;5;28;01mimport\u001b[39;00m \u001b[38;5;241m*\u001b[39m\n",
      "File \u001b[1;32mc:\\Users\\danis\\anaconda3\\Lib\\site-packages\\scipy\\ndimage\\_filters.py:39\u001b[0m\n\u001b[0;32m     37\u001b[0m \u001b[38;5;28;01mfrom\u001b[39;00m \u001b[38;5;21;01mscipy\u001b[39;00m\u001b[38;5;21;01m.\u001b[39;00m\u001b[38;5;21;01m_lib\u001b[39;00m\u001b[38;5;21;01m.\u001b[39;00m\u001b[38;5;21;01m_util\u001b[39;00m \u001b[38;5;28;01mimport\u001b[39;00m normalize_axis_index\n\u001b[0;32m     38\u001b[0m \u001b[38;5;28;01mfrom\u001b[39;00m \u001b[38;5;21;01m.\u001b[39;00m \u001b[38;5;28;01mimport\u001b[39;00m _ni_support\n\u001b[1;32m---> 39\u001b[0m \u001b[38;5;28;01mfrom\u001b[39;00m \u001b[38;5;21;01m.\u001b[39;00m \u001b[38;5;28;01mimport\u001b[39;00m _nd_image\n\u001b[0;32m     40\u001b[0m \u001b[38;5;28;01mfrom\u001b[39;00m \u001b[38;5;21;01m.\u001b[39;00m \u001b[38;5;28;01mimport\u001b[39;00m _ni_docstrings\n\u001b[0;32m     42\u001b[0m __all__ \u001b[38;5;241m=\u001b[39m [\u001b[38;5;124m'\u001b[39m\u001b[38;5;124mcorrelate1d\u001b[39m\u001b[38;5;124m'\u001b[39m, \u001b[38;5;124m'\u001b[39m\u001b[38;5;124mconvolve1d\u001b[39m\u001b[38;5;124m'\u001b[39m, \u001b[38;5;124m'\u001b[39m\u001b[38;5;124mgaussian_filter1d\u001b[39m\u001b[38;5;124m'\u001b[39m, \u001b[38;5;124m'\u001b[39m\u001b[38;5;124mgaussian_filter\u001b[39m\u001b[38;5;124m'\u001b[39m,\n\u001b[0;32m     43\u001b[0m            \u001b[38;5;124m'\u001b[39m\u001b[38;5;124mprewitt\u001b[39m\u001b[38;5;124m'\u001b[39m, \u001b[38;5;124m'\u001b[39m\u001b[38;5;124msobel\u001b[39m\u001b[38;5;124m'\u001b[39m, \u001b[38;5;124m'\u001b[39m\u001b[38;5;124mgeneric_laplace\u001b[39m\u001b[38;5;124m'\u001b[39m, \u001b[38;5;124m'\u001b[39m\u001b[38;5;124mlaplace\u001b[39m\u001b[38;5;124m'\u001b[39m,\n\u001b[0;32m     44\u001b[0m            \u001b[38;5;124m'\u001b[39m\u001b[38;5;124mgaussian_laplace\u001b[39m\u001b[38;5;124m'\u001b[39m, \u001b[38;5;124m'\u001b[39m\u001b[38;5;124mgeneric_gradient_magnitude\u001b[39m\u001b[38;5;124m'\u001b[39m,\n\u001b[1;32m   (...)\u001b[0m\n\u001b[0;32m     48\u001b[0m            \u001b[38;5;124m'\u001b[39m\u001b[38;5;124mrank_filter\u001b[39m\u001b[38;5;124m'\u001b[39m, \u001b[38;5;124m'\u001b[39m\u001b[38;5;124mmedian_filter\u001b[39m\u001b[38;5;124m'\u001b[39m, \u001b[38;5;124m'\u001b[39m\u001b[38;5;124mpercentile_filter\u001b[39m\u001b[38;5;124m'\u001b[39m,\n\u001b[0;32m     49\u001b[0m            \u001b[38;5;124m'\u001b[39m\u001b[38;5;124mgeneric_filter1d\u001b[39m\u001b[38;5;124m'\u001b[39m, \u001b[38;5;124m'\u001b[39m\u001b[38;5;124mgeneric_filter\u001b[39m\u001b[38;5;124m'\u001b[39m]\n",
      "\u001b[1;31mImportError\u001b[0m: numpy.core.multiarray failed to import"
     ]
    }
   ],
   "source": [
    "import easyocr\n",
    "reader = easyocr.Reader(['en'])\n",
    "results = reader.readtext(r\"doc\\DanishResume.jpg\", detail=0)\n",
    "print(results)\n"
   ]
  },
  {
   "cell_type": "code",
   "execution_count": null,
   "id": "fe75edce",
   "metadata": {},
   "outputs": [],
   "source": [
    "!pip install paddleocr"
   ]
  },
  {
   "cell_type": "code",
   "execution_count": 5,
   "id": "0ca6a4a8",
   "metadata": {},
   "outputs": [
    {
     "name": "stdout",
     "output_type": "stream",
     "text": [
      "Requirement already satisfied: paddlepaddle in c:\\users\\danis\\anaconda3\\lib\\site-packages (3.1.0)\n",
      "Requirement already satisfied: httpx in c:\\users\\danis\\anaconda3\\lib\\site-packages (from paddlepaddle) (0.28.1)\n",
      "Requirement already satisfied: numpy>=1.21 in c:\\users\\danis\\anaconda3\\lib\\site-packages (from paddlepaddle) (1.26.4)\n",
      "Requirement already satisfied: protobuf>=3.20.2 in c:\\users\\danis\\anaconda3\\lib\\site-packages (from paddlepaddle) (3.20.3)\n",
      "Requirement already satisfied: Pillow in c:\\users\\danis\\anaconda3\\lib\\site-packages (from paddlepaddle) (10.3.0)\n",
      "Requirement already satisfied: decorator in c:\\users\\danis\\appdata\\roaming\\python\\python312\\site-packages (from paddlepaddle) (5.1.1)\n",
      "Requirement already satisfied: opt-einsum==3.3.0 in c:\\users\\danis\\anaconda3\\lib\\site-packages (from paddlepaddle) (3.3.0)\n",
      "Requirement already satisfied: networkx in c:\\users\\danis\\appdata\\roaming\\python\\python312\\site-packages (from paddlepaddle) (3.3)\n",
      "Requirement already satisfied: typing-extensions in c:\\users\\danis\\anaconda3\\lib\\site-packages (from paddlepaddle) (4.14.0)\n",
      "Requirement already satisfied: anyio in c:\\users\\danis\\anaconda3\\lib\\site-packages (from httpx->paddlepaddle) (4.2.0)\n",
      "Requirement already satisfied: certifi in c:\\users\\danis\\anaconda3\\lib\\site-packages (from httpx->paddlepaddle) (2024.6.2)\n",
      "Requirement already satisfied: httpcore==1.* in c:\\users\\danis\\anaconda3\\lib\\site-packages (from httpx->paddlepaddle) (1.0.9)\n",
      "Requirement already satisfied: idna in c:\\users\\danis\\anaconda3\\lib\\site-packages (from httpx->paddlepaddle) (3.7)\n",
      "Requirement already satisfied: h11>=0.16 in c:\\users\\danis\\anaconda3\\lib\\site-packages (from httpcore==1.*->httpx->paddlepaddle) (0.16.0)\n",
      "Requirement already satisfied: sniffio>=1.1 in c:\\users\\danis\\anaconda3\\lib\\site-packages (from anyio->httpx->paddlepaddle) (1.3.0)\n"
     ]
    }
   ],
   "source": [
    "!pip install paddlepaddle"
   ]
  },
  {
   "cell_type": "code",
   "execution_count": 13,
   "id": "5389c203",
   "metadata": {},
   "outputs": [
    {
     "name": "stdout",
     "output_type": "stream",
     "text": [
      "Looking in links: https://www.paddlepaddle.org.cn/whl/windows/mkl/avx/stable.html\n",
      "Requirement already satisfied: paddlepaddle in c:\\users\\danis\\anaconda3\\lib\\site-packages (3.1.0)\n",
      "Requirement already satisfied: httpx in c:\\users\\danis\\anaconda3\\lib\\site-packages (from paddlepaddle) (0.28.1)\n",
      "Requirement already satisfied: numpy>=1.21 in c:\\users\\danis\\anaconda3\\lib\\site-packages (from paddlepaddle) (1.26.4)\n",
      "Requirement already satisfied: protobuf>=3.20.2 in c:\\users\\danis\\anaconda3\\lib\\site-packages (from paddlepaddle) (3.20.3)\n",
      "Requirement already satisfied: Pillow in c:\\users\\danis\\anaconda3\\lib\\site-packages (from paddlepaddle) (10.3.0)\n",
      "Requirement already satisfied: decorator in c:\\users\\danis\\appdata\\roaming\\python\\python312\\site-packages (from paddlepaddle) (5.1.1)\n",
      "Requirement already satisfied: opt-einsum==3.3.0 in c:\\users\\danis\\anaconda3\\lib\\site-packages (from paddlepaddle) (3.3.0)\n",
      "Requirement already satisfied: networkx in c:\\users\\danis\\appdata\\roaming\\python\\python312\\site-packages (from paddlepaddle) (3.3)\n",
      "Requirement already satisfied: typing-extensions in c:\\users\\danis\\anaconda3\\lib\\site-packages (from paddlepaddle) (4.14.0)\n",
      "Requirement already satisfied: anyio in c:\\users\\danis\\anaconda3\\lib\\site-packages (from httpx->paddlepaddle) (4.2.0)\n",
      "Requirement already satisfied: certifi in c:\\users\\danis\\anaconda3\\lib\\site-packages (from httpx->paddlepaddle) (2024.6.2)\n",
      "Requirement already satisfied: httpcore==1.* in c:\\users\\danis\\anaconda3\\lib\\site-packages (from httpx->paddlepaddle) (1.0.9)\n",
      "Requirement already satisfied: idna in c:\\users\\danis\\anaconda3\\lib\\site-packages (from httpx->paddlepaddle) (3.7)\n",
      "Requirement already satisfied: h11>=0.16 in c:\\users\\danis\\anaconda3\\lib\\site-packages (from httpcore==1.*->httpx->paddlepaddle) (0.16.0)\n",
      "Requirement already satisfied: sniffio>=1.1 in c:\\users\\danis\\anaconda3\\lib\\site-packages (from anyio->httpx->paddlepaddle) (1.3.0)\n"
     ]
    }
   ],
   "source": [
    "!pip install paddlepaddle -f https://www.paddlepaddle.org.cn/whl/windows/mkl/avx/stable.html\n"
   ]
  },
  {
   "cell_type": "code",
   "execution_count": 15,
   "id": "7010c5e7",
   "metadata": {},
   "outputs": [
    {
     "name": "stderr",
     "output_type": "stream",
     "text": [
      "C:\\Users\\danis\\AppData\\Local\\Temp\\ipykernel_23068\\3501084195.py:5: DeprecationWarning: The parameter `use_angle_cls` has been deprecated and will be removed in the future. Please use `use_textline_orientation` instead.\n",
      "  ocr = PaddleOCR(use_angle_cls=True, lang='en')  # Downloaded on first run\n",
      "\u001b[32mCreating model: ('PP-LCNet_x1_0_doc_ori', None)\u001b[0m\n",
      "\u001b[32mUsing official model (PP-LCNet_x1_0_doc_ori), the model files will be automatically downloaded and saved in C:\\Users\\danis\\.paddlex\\official_models.\u001b[0m\n"
     ]
    },
    {
     "data": {
      "application/vnd.jupyter.widget-view+json": {
       "model_id": "e937e2bae5ff44b1800663554edb386e",
       "version_major": 2,
       "version_minor": 0
      },
      "text/plain": [
       "Fetching 6 files:   0%|          | 0/6 [00:00<?, ?it/s]"
      ]
     },
     "metadata": {},
     "output_type": "display_data"
    },
    {
     "name": "stderr",
     "output_type": "stream",
     "text": [
      "\u001b[32mCreating model: ('UVDoc', None)\u001b[0m\n",
      "\u001b[33mThe model(UVDoc) is not supported to run in MKLDNN mode! Using `paddle` instead!\u001b[0m\n",
      "\u001b[32mUsing official model (UVDoc), the model files will be automatically downloaded and saved in C:\\Users\\danis\\.paddlex\\official_models.\u001b[0m\n"
     ]
    },
    {
     "data": {
      "application/vnd.jupyter.widget-view+json": {
       "model_id": "b0f0f4dfb0444913b619d986d1d6f86e",
       "version_major": 2,
       "version_minor": 0
      },
      "text/plain": [
       "Fetching 6 files:   0%|          | 0/6 [00:00<?, ?it/s]"
      ]
     },
     "metadata": {},
     "output_type": "display_data"
    },
    {
     "name": "stderr",
     "output_type": "stream",
     "text": [
      "\u001b[32mCreating model: ('PP-LCNet_x1_0_textline_ori', None)\u001b[0m\n",
      "\u001b[32mUsing official model (PP-LCNet_x1_0_textline_ori), the model files will be automatically downloaded and saved in C:\\Users\\danis\\.paddlex\\official_models.\u001b[0m\n"
     ]
    },
    {
     "data": {
      "application/vnd.jupyter.widget-view+json": {
       "model_id": "07a109429eed413c9c1202036836e849",
       "version_major": 2,
       "version_minor": 0
      },
      "text/plain": [
       "Fetching 8 files:   0%|          | 0/8 [00:00<?, ?it/s]"
      ]
     },
     "metadata": {},
     "output_type": "display_data"
    },
    {
     "name": "stderr",
     "output_type": "stream",
     "text": [
      "\u001b[32mCreating model: ('PP-OCRv5_server_det', None)\u001b[0m\n",
      "\u001b[32mUsing official model (PP-OCRv5_server_det), the model files will be automatically downloaded and saved in C:\\Users\\danis\\.paddlex\\official_models.\u001b[0m\n"
     ]
    },
    {
     "data": {
      "application/vnd.jupyter.widget-view+json": {
       "model_id": "4cb39cc0e14548cbbcd0da0d39879f42",
       "version_major": 2,
       "version_minor": 0
      },
      "text/plain": [
       "Fetching 6 files:   0%|          | 0/6 [00:00<?, ?it/s]"
      ]
     },
     "metadata": {},
     "output_type": "display_data"
    },
    {
     "name": "stderr",
     "output_type": "stream",
     "text": [
      "\u001b[32mCreating model: ('PP-OCRv5_server_rec', None)\u001b[0m\n",
      "\u001b[32mUsing official model (PP-OCRv5_server_rec), the model files will be automatically downloaded and saved in C:\\Users\\danis\\.paddlex\\official_models.\u001b[0m\n"
     ]
    },
    {
     "data": {
      "application/vnd.jupyter.widget-view+json": {
       "model_id": "b4c6611f504e485c9d5ad8bc136a62b8",
       "version_major": 2,
       "version_minor": 0
      },
      "text/plain": [
       "Fetching 6 files:   0%|          | 0/6 [00:00<?, ?it/s]"
      ]
     },
     "metadata": {},
     "output_type": "display_data"
    },
    {
     "name": "stderr",
     "output_type": "stream",
     "text": [
      "C:\\Users\\danis\\AppData\\Local\\Temp\\ipykernel_23068\\3501084195.py:12: DeprecationWarning: Please use `predict` instead.\n",
      "  results = ocr.ocr(image_path)\n"
     ]
    },
    {
     "name": "stdout",
     "output_type": "stream",
     "text": [
      "n\n",
      "a\n",
      "o\n",
      "t\n",
      "o\n",
      "e\n",
      "e\n",
      "e\n",
      "e\n",
      "e\n",
      "e\n",
      "i\n",
      "e\n",
      "e\n"
     ]
    }
   ],
   "source": [
    "from paddleocr import PaddleOCR\n",
    "import cv2\n",
    "\n",
    "# Load OCR model (English)\n",
    "ocr = PaddleOCR(use_angle_cls=True, lang='en')  # Downloaded on first run\n",
    "\n",
    "# Load your image\n",
    "image_path = r'doc\\DanishResume.jpg'\n",
    "image = cv2.imread(image_path)\n",
    "\n",
    "# Run OCR\n",
    "results = ocr.ocr(image_path)\n",
    "\n",
    "# Display the extracted text\n",
    "extracted_text = []\n",
    "for line in results[0]:\n",
    "    text = line[1][0]\n",
    "    extracted_text.append(text)\n",
    "    print(text)  # Print each line\n",
    "\n",
    "\n"
   ]
  },
  {
   "cell_type": "code",
   "execution_count": null,
   "id": "2734a8b4",
   "metadata": {},
   "outputs": [],
   "source": []
  }
 ],
 "metadata": {
  "kernelspec": {
   "display_name": "base",
   "language": "python",
   "name": "python3"
  },
  "language_info": {
   "codemirror_mode": {
    "name": "ipython",
    "version": 3
   },
   "file_extension": ".py",
   "mimetype": "text/x-python",
   "name": "python",
   "nbconvert_exporter": "python",
   "pygments_lexer": "ipython3",
   "version": "3.12.4"
  }
 },
 "nbformat": 4,
 "nbformat_minor": 5
}
