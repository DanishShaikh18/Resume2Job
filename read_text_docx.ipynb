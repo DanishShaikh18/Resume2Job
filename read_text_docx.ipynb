{
 "cells": [
  {
   "cell_type": "code",
   "execution_count": null,
   "id": "712d914f",
   "metadata": {},
   "outputs": [],
   "source": [
    "!pip install python-docx\n"
   ]
  },
  {
   "cell_type": "code",
   "execution_count": null,
   "id": "af0d54ae",
   "metadata": {},
   "outputs": [],
   "source": [
    "from docx import Document\n",
    "\n",
    "doc = Document(r'doc\\Danish_Java_Journal.docx')\n",
    "\n",
    "table = doc.tables[0]  # Change to 1 for Table 2, 2 for Table 3, etc.\n",
    "\n",
    "for row in table.rows:\n",
    "    row_data = [cell.text.strip() for cell in row.cells]\n",
    "    print(row_data)\n",
    "\n"
   ]
  },
  {
   "cell_type": "code",
   "execution_count": 15,
   "id": "e7d38618",
   "metadata": {},
   "outputs": [
    {
     "name": "stdout",
     "output_type": "stream",
     "text": [
      "📄 Paragraphs:\n",
      "                             Resources for R Programming \n",
      "\n",
      "📊 Tables:\n",
      "['Unit 1']\n",
      "['Introduction of Probability\\n( One Shot )', 'https://youtu.be/cJ914xcxOYs?feature=shared']\n",
      "['Types of Probability', 'https://youtu.be/QusspgGWD4Q?feature=shared']\n",
      "['Permutation and Combination concept', 'https://youtu.be/4dz3HUsLVXk?feature=shared\\nhttps://youtu.be/pPu_L3dm9Jo?feature=shared\\nhttps://youtu.be/FRsz5UYq1n4?feature=shared']\n",
      "['Addition and Multiplication Theorems', 'https://youtu.be/jZPM8yDgcbc?feature=shared\\nhttps://youtu.be/bKm79dUetv8?feature=shared']\n",
      "['Condition Probability', 'https://youtu.be/ZFMcWe_SNyI?feature=shared']\n",
      "['Bayes’s Theorem', 'https://youtu.be/XifBOZPO5HI?feature=shared']\n"
     ]
    }
   ],
   "source": [
    "from docx import Document\n",
    "doc = Document(r'doc\\R_Prog_Resources.docx')\n",
    "print(\"📄 Paragraphs:\")\n",
    "for para in doc.paragraphs:\n",
    "    if para.text.strip():\n",
    "        print(para.text)\n",
    "\n",
    "print(\"\\n📊 Tables:\")\n",
    "for table in doc.tables:\n",
    "    for row in table.rows:\n",
    "        row_data = [cell.text.strip() for cell in row.cells if cell.text.strip()]\n",
    "        if row_data:\n",
    "            print(row_data)\n"
   ]
  },
  {
   "cell_type": "code",
   "execution_count": null,
   "id": "10dadf41",
   "metadata": {},
   "outputs": [],
   "source": []
  }
 ],
 "metadata": {
  "kernelspec": {
   "display_name": "base",
   "language": "python",
   "name": "python3"
  },
  "language_info": {
   "codemirror_mode": {
    "name": "ipython",
    "version": 3
   },
   "file_extension": ".py",
   "mimetype": "text/x-python",
   "name": "python",
   "nbconvert_exporter": "python",
   "pygments_lexer": "ipython3",
   "version": "3.12.4"
  }
 },
 "nbformat": 4,
 "nbformat_minor": 5
}
