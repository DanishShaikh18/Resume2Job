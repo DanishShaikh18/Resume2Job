{
 "cells": [
  {
   "cell_type": "code",
   "execution_count": 1,
   "id": "712d914f",
   "metadata": {},
   "outputs": [
    {
     "name": "stdout",
     "output_type": "stream",
     "text": [
      "Collecting python-docx\n",
      "  Downloading python_docx-1.2.0-py3-none-any.whl.metadata (2.0 kB)\n",
      "Requirement already satisfied: lxml>=3.1.0 in c:\\users\\danis\\anaconda3\\lib\\site-packages (from python-docx) (5.2.1)\n",
      "Requirement already satisfied: typing_extensions>=4.9.0 in c:\\users\\danis\\anaconda3\\lib\\site-packages (from python-docx) (4.11.0)\n",
      "Downloading python_docx-1.2.0-py3-none-any.whl (252 kB)\n",
      "   ---------------------------------------- 0.0/253.0 kB ? eta -:--:--\n",
      "   ---------------------------------------- 0.0/253.0 kB ? eta -:--:--\n",
      "   - -------------------------------------- 10.2/253.0 kB ? eta -:--:--\n",
      "   ---- ---------------------------------- 30.7/253.0 kB 435.7 kB/s eta 0:00:01\n",
      "   -------------- ------------------------ 92.2/253.0 kB 751.6 kB/s eta 0:00:01\n",
      "   ----------------------------- ---------- 184.3/253.0 kB 1.1 MB/s eta 0:00:01\n",
      "   ---------------------------------------- 253.0/253.0 kB 1.2 MB/s eta 0:00:00\n",
      "Installing collected packages: python-docx\n",
      "Successfully installed python-docx-1.2.0\n"
     ]
    }
   ],
   "source": [
    "!pip install python-docx\n"
   ]
  },
  {
   "cell_type": "code",
   "execution_count": 5,
   "id": "af0d54ae",
   "metadata": {},
   "outputs": [
    {
     "name": "stdout",
     "output_type": "stream",
     "text": [
      "['Unit- 1', 'Unit- 1']\n",
      "['1.', 'Write a program to demonstrate multi-threading using Thread Class.']\n",
      "['2.', 'Write java program to implement Runnable interface.']\n",
      "['3.', 'Write java program for demonstrating concept of Thread synchronization.']\n",
      "['4.', 'Write java code for implementing the following Inter-thread communication\\nmethods:\\nwait(),\\nnotify(),\\nnotifyAll().']\n",
      "['Unit-2', 'Unit-2']\n",
      "['1.', 'Develop java programs to implement Simple generic class and methods.']\n",
      "['2.', 'Write java programs to demonstrate concept of Vector.']\n",
      "['3.', 'Write java programs to demonstrate concept of LinkedList.']\n",
      "['4.', 'Write java code to implement Iterator to access collection elements.']\n",
      "['Unit-3', 'Unit-3']\n",
      "['1.', 'Implement jdbc connectivity to insert\\nRecords.']\n",
      "['2.', 'Implement jdbc connectivity to delete\\nRecords.']\n",
      "['3.', 'Implement jdbc connectivity to demonstrate\\nPreparedStatement.']\n",
      "['4.', 'Write java code to Making use of Database\\nMetadata and ResultSetMetadata']\n",
      "['Unit-4', 'Unit-4']\n",
      "['1.', 'Write a servlet program to create a simple servlet and test it.']\n",
      "['2.', 'Write a servlet program to read the client request parameters.']\n",
      "['3.', 'Implement a Servlet to generate Multiplication Table for a Number Entered in Html Page']\n",
      "['Unit-5', 'Unit-5']\n",
      "['1.', 'Develop an application to demonstrate Declaration tag available in JSP.']\n",
      "['2.', 'Develop an application to demonstrate Expression tag available in JSP.']\n",
      "['3.', 'Develop an application to demonstrate Scriplet tag available in JSP.']\n",
      "['2.', 'Develop a JSP Application to accept\\nDetails from user and store it into the database table.']\n",
      "['3.', 'Develop a JSP Application to Authenticate User login as per registration details.\\nIf login success the forward user to Index Page otherwise show login failure Message.']\n",
      "['4.', 'Write a web based student registration application where students can register online with their enrolment number. The registered students should be able to log on to the site after getting registered. You are\\nrequired to use JSP, Servlet and JDBC']\n"
     ]
    }
   ],
   "source": [
    "from docx import Document\n",
    "\n",
    "doc = Document(r'doc\\Danish_Java_Journal.docx')\n",
    "\n",
    "table = doc.tables[0]  # Change to 1 for Table 2, 2 for Table 3, etc.\n",
    "\n",
    "for row in table.rows:\n",
    "    row_data = [cell.text.strip() for cell in row.cells]\n",
    "    print(row_data)\n",
    "\n"
   ]
  },
  {
   "cell_type": "code",
   "execution_count": null,
   "id": "e7d38618",
   "metadata": {},
   "outputs": [],
   "source": []
  }
 ],
 "metadata": {
  "kernelspec": {
   "display_name": "base",
   "language": "python",
   "name": "python3"
  },
  "language_info": {
   "codemirror_mode": {
    "name": "ipython",
    "version": 3
   },
   "file_extension": ".py",
   "mimetype": "text/x-python",
   "name": "python",
   "nbconvert_exporter": "python",
   "pygments_lexer": "ipython3",
   "version": "3.12.4"
  }
 },
 "nbformat": 4,
 "nbformat_minor": 5
}
